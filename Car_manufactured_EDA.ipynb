{
 "cells": [
  {
   "cell_type": "code",
   "execution_count": 1,
   "id": "4ffc2fd3",
   "metadata": {},
   "outputs": [],
   "source": [
    "import pandas as pd\n",
    "import numpy as np\n",
    "import matplotlib.pyplot as plt\n",
    "import seaborn as sns\n",
    "#to ignore warnings\n",
    "import warnings\n",
    "warnings.filterwarnings('ignore')"
   ]
  },
  {
   "cell_type": "code",
   "execution_count": 2,
   "id": "ed2b4fed",
   "metadata": {},
   "outputs": [
    {
     "data": {
      "text/html": [
       "<div>\n",
       "<style scoped>\n",
       "    .dataframe tbody tr th:only-of-type {\n",
       "        vertical-align: middle;\n",
       "    }\n",
       "\n",
       "    .dataframe tbody tr th {\n",
       "        vertical-align: top;\n",
       "    }\n",
       "\n",
       "    .dataframe thead th {\n",
       "        text-align: right;\n",
       "    }\n",
       "</style>\n",
       "<table border=\"1\" class=\"dataframe\">\n",
       "  <thead>\n",
       "    <tr style=\"text-align: right;\">\n",
       "      <th></th>\n",
       "      <th>Make</th>\n",
       "      <th>Model</th>\n",
       "      <th>Year</th>\n",
       "      <th>Engine Fuel Type</th>\n",
       "      <th>Engine HP</th>\n",
       "      <th>Engine Cylinders</th>\n",
       "      <th>Transmission Type</th>\n",
       "      <th>Driven_Wheels</th>\n",
       "      <th>Number of Doors</th>\n",
       "      <th>Market Category</th>\n",
       "      <th>Vehicle Size</th>\n",
       "      <th>Vehicle Style</th>\n",
       "      <th>highway MPG</th>\n",
       "      <th>city mpg</th>\n",
       "      <th>Popularity</th>\n",
       "      <th>MSRP</th>\n",
       "    </tr>\n",
       "  </thead>\n",
       "  <tbody>\n",
       "    <tr>\n",
       "      <th>0</th>\n",
       "      <td>BMW</td>\n",
       "      <td>1 Series M</td>\n",
       "      <td>2011</td>\n",
       "      <td>premium unleaded (required)</td>\n",
       "      <td>335.0</td>\n",
       "      <td>6.0</td>\n",
       "      <td>MANUAL</td>\n",
       "      <td>rear wheel drive</td>\n",
       "      <td>2.0</td>\n",
       "      <td>Factory Tuner,Luxury,High-Performance</td>\n",
       "      <td>Compact</td>\n",
       "      <td>Coupe</td>\n",
       "      <td>26</td>\n",
       "      <td>19</td>\n",
       "      <td>3916</td>\n",
       "      <td>46135</td>\n",
       "    </tr>\n",
       "    <tr>\n",
       "      <th>1</th>\n",
       "      <td>BMW</td>\n",
       "      <td>1 Series</td>\n",
       "      <td>2011</td>\n",
       "      <td>premium unleaded (required)</td>\n",
       "      <td>300.0</td>\n",
       "      <td>6.0</td>\n",
       "      <td>MANUAL</td>\n",
       "      <td>rear wheel drive</td>\n",
       "      <td>2.0</td>\n",
       "      <td>Luxury,Performance</td>\n",
       "      <td>Compact</td>\n",
       "      <td>Convertible</td>\n",
       "      <td>28</td>\n",
       "      <td>19</td>\n",
       "      <td>3916</td>\n",
       "      <td>40650</td>\n",
       "    </tr>\n",
       "  </tbody>\n",
       "</table>\n",
       "</div>"
      ],
      "text/plain": [
       "  Make       Model  Year             Engine Fuel Type  Engine HP  \\\n",
       "0  BMW  1 Series M  2011  premium unleaded (required)      335.0   \n",
       "1  BMW    1 Series  2011  premium unleaded (required)      300.0   \n",
       "\n",
       "   Engine Cylinders Transmission Type     Driven_Wheels  Number of Doors  \\\n",
       "0               6.0            MANUAL  rear wheel drive              2.0   \n",
       "1               6.0            MANUAL  rear wheel drive              2.0   \n",
       "\n",
       "                         Market Category Vehicle Size Vehicle Style  \\\n",
       "0  Factory Tuner,Luxury,High-Performance      Compact         Coupe   \n",
       "1                     Luxury,Performance      Compact   Convertible   \n",
       "\n",
       "   highway MPG  city mpg  Popularity   MSRP  \n",
       "0           26        19        3916  46135  \n",
       "1           28        19        3916  40650  "
      ]
     },
     "execution_count": 2,
     "metadata": {},
     "output_type": "execute_result"
    }
   ],
   "source": [
    "car_data = pd.read_csv(r\"C:\\Users\\guruk\\Documents\\Car_data.csv\")\n",
    "car_data.head(2)"
   ]
  },
  {
   "cell_type": "code",
   "execution_count": 4,
   "id": "fc4f8a58",
   "metadata": {},
   "outputs": [
    {
     "data": {
      "text/plain": [
       "(11914, 16)"
      ]
     },
     "execution_count": 4,
     "metadata": {},
     "output_type": "execute_result"
    }
   ],
   "source": [
    "car_data.shape"
   ]
  },
  {
   "cell_type": "markdown",
   "id": "cbfc5013",
   "metadata": {},
   "source": [
    "**Number of Rows and Columns:**"
   ]
  },
  {
   "cell_type": "code",
   "execution_count": 7,
   "id": "bb859b45",
   "metadata": {},
   "outputs": [
    {
     "data": {
      "text/html": [
       "<div>\n",
       "<style scoped>\n",
       "    .dataframe tbody tr th:only-of-type {\n",
       "        vertical-align: middle;\n",
       "    }\n",
       "\n",
       "    .dataframe tbody tr th {\n",
       "        vertical-align: top;\n",
       "    }\n",
       "\n",
       "    .dataframe thead th {\n",
       "        text-align: right;\n",
       "    }\n",
       "</style>\n",
       "<table border=\"1\" class=\"dataframe\">\n",
       "  <thead>\n",
       "    <tr style=\"text-align: right;\">\n",
       "      <th></th>\n",
       "      <th>Make</th>\n",
       "      <th>Model</th>\n",
       "      <th>Year</th>\n",
       "      <th>Engine Fuel Type</th>\n",
       "      <th>Engine HP</th>\n",
       "      <th>Engine Cylinders</th>\n",
       "      <th>Transmission Type</th>\n",
       "      <th>Driven_Wheels</th>\n",
       "      <th>Number of Doors</th>\n",
       "      <th>Market Category</th>\n",
       "      <th>Vehicle Size</th>\n",
       "      <th>Vehicle Style</th>\n",
       "      <th>highway MPG</th>\n",
       "      <th>city mpg</th>\n",
       "      <th>Popularity</th>\n",
       "      <th>MSRP</th>\n",
       "    </tr>\n",
       "  </thead>\n",
       "  <tbody>\n",
       "    <tr>\n",
       "      <th>11909</th>\n",
       "      <td>Acura</td>\n",
       "      <td>ZDX</td>\n",
       "      <td>2012</td>\n",
       "      <td>premium unleaded (required)</td>\n",
       "      <td>300.0</td>\n",
       "      <td>6.0</td>\n",
       "      <td>AUTOMATIC</td>\n",
       "      <td>all wheel drive</td>\n",
       "      <td>4.0</td>\n",
       "      <td>Crossover,Hatchback,Luxury</td>\n",
       "      <td>Midsize</td>\n",
       "      <td>4dr Hatchback</td>\n",
       "      <td>23</td>\n",
       "      <td>16</td>\n",
       "      <td>204</td>\n",
       "      <td>46120</td>\n",
       "    </tr>\n",
       "    <tr>\n",
       "      <th>11910</th>\n",
       "      <td>Acura</td>\n",
       "      <td>ZDX</td>\n",
       "      <td>2012</td>\n",
       "      <td>premium unleaded (required)</td>\n",
       "      <td>300.0</td>\n",
       "      <td>6.0</td>\n",
       "      <td>AUTOMATIC</td>\n",
       "      <td>all wheel drive</td>\n",
       "      <td>4.0</td>\n",
       "      <td>Crossover,Hatchback,Luxury</td>\n",
       "      <td>Midsize</td>\n",
       "      <td>4dr Hatchback</td>\n",
       "      <td>23</td>\n",
       "      <td>16</td>\n",
       "      <td>204</td>\n",
       "      <td>56670</td>\n",
       "    </tr>\n",
       "    <tr>\n",
       "      <th>11911</th>\n",
       "      <td>Acura</td>\n",
       "      <td>ZDX</td>\n",
       "      <td>2012</td>\n",
       "      <td>premium unleaded (required)</td>\n",
       "      <td>300.0</td>\n",
       "      <td>6.0</td>\n",
       "      <td>AUTOMATIC</td>\n",
       "      <td>all wheel drive</td>\n",
       "      <td>4.0</td>\n",
       "      <td>Crossover,Hatchback,Luxury</td>\n",
       "      <td>Midsize</td>\n",
       "      <td>4dr Hatchback</td>\n",
       "      <td>23</td>\n",
       "      <td>16</td>\n",
       "      <td>204</td>\n",
       "      <td>50620</td>\n",
       "    </tr>\n",
       "    <tr>\n",
       "      <th>11912</th>\n",
       "      <td>Acura</td>\n",
       "      <td>ZDX</td>\n",
       "      <td>2013</td>\n",
       "      <td>premium unleaded (recommended)</td>\n",
       "      <td>300.0</td>\n",
       "      <td>6.0</td>\n",
       "      <td>AUTOMATIC</td>\n",
       "      <td>all wheel drive</td>\n",
       "      <td>4.0</td>\n",
       "      <td>Crossover,Hatchback,Luxury</td>\n",
       "      <td>Midsize</td>\n",
       "      <td>4dr Hatchback</td>\n",
       "      <td>23</td>\n",
       "      <td>16</td>\n",
       "      <td>204</td>\n",
       "      <td>50920</td>\n",
       "    </tr>\n",
       "    <tr>\n",
       "      <th>11913</th>\n",
       "      <td>Lincoln</td>\n",
       "      <td>Zephyr</td>\n",
       "      <td>2006</td>\n",
       "      <td>regular unleaded</td>\n",
       "      <td>221.0</td>\n",
       "      <td>6.0</td>\n",
       "      <td>AUTOMATIC</td>\n",
       "      <td>front wheel drive</td>\n",
       "      <td>4.0</td>\n",
       "      <td>Luxury</td>\n",
       "      <td>Midsize</td>\n",
       "      <td>Sedan</td>\n",
       "      <td>26</td>\n",
       "      <td>17</td>\n",
       "      <td>61</td>\n",
       "      <td>28995</td>\n",
       "    </tr>\n",
       "  </tbody>\n",
       "</table>\n",
       "</div>"
      ],
      "text/plain": [
       "          Make   Model  Year                Engine Fuel Type  Engine HP  \\\n",
       "11909    Acura     ZDX  2012     premium unleaded (required)      300.0   \n",
       "11910    Acura     ZDX  2012     premium unleaded (required)      300.0   \n",
       "11911    Acura     ZDX  2012     premium unleaded (required)      300.0   \n",
       "11912    Acura     ZDX  2013  premium unleaded (recommended)      300.0   \n",
       "11913  Lincoln  Zephyr  2006                regular unleaded      221.0   \n",
       "\n",
       "       Engine Cylinders Transmission Type      Driven_Wheels  Number of Doors  \\\n",
       "11909               6.0         AUTOMATIC    all wheel drive              4.0   \n",
       "11910               6.0         AUTOMATIC    all wheel drive              4.0   \n",
       "11911               6.0         AUTOMATIC    all wheel drive              4.0   \n",
       "11912               6.0         AUTOMATIC    all wheel drive              4.0   \n",
       "11913               6.0         AUTOMATIC  front wheel drive              4.0   \n",
       "\n",
       "                  Market Category Vehicle Size  Vehicle Style  highway MPG  \\\n",
       "11909  Crossover,Hatchback,Luxury      Midsize  4dr Hatchback           23   \n",
       "11910  Crossover,Hatchback,Luxury      Midsize  4dr Hatchback           23   \n",
       "11911  Crossover,Hatchback,Luxury      Midsize  4dr Hatchback           23   \n",
       "11912  Crossover,Hatchback,Luxury      Midsize  4dr Hatchback           23   \n",
       "11913                      Luxury      Midsize          Sedan           26   \n",
       "\n",
       "       city mpg  Popularity   MSRP  \n",
       "11909        16         204  46120  \n",
       "11910        16         204  56670  \n",
       "11911        16         204  50620  \n",
       "11912        16         204  50920  \n",
       "11913        17          61  28995  "
      ]
     },
     "execution_count": 7,
     "metadata": {},
     "output_type": "execute_result"
    }
   ],
   "source": [
    "car_data.tail()"
   ]
  },
  {
   "cell_type": "markdown",
   "id": "5806e623",
   "metadata": {},
   "source": [
    "**Column name List:**"
   ]
  },
  {
   "cell_type": "code",
   "execution_count": 8,
   "id": "93f22943",
   "metadata": {},
   "outputs": [
    {
     "data": {
      "text/plain": [
       "Index(['Make', 'Model', 'Year', 'Engine Fuel Type', 'Engine HP',\n",
       "       'Engine Cylinders', 'Transmission Type', 'Driven_Wheels',\n",
       "       'Number of Doors', 'Market Category', 'Vehicle Size', 'Vehicle Style',\n",
       "       'highway MPG', 'city mpg', 'Popularity', 'MSRP'],\n",
       "      dtype='object')"
      ]
     },
     "execution_count": 8,
     "metadata": {},
     "output_type": "execute_result"
    }
   ],
   "source": [
    "car_data.columns"
   ]
  },
  {
   "cell_type": "markdown",
   "id": "1a2b7ecb",
   "metadata": {},
   "source": [
    "**Types of Columns:**"
   ]
  },
  {
   "cell_type": "code",
   "execution_count": 9,
   "id": "c2ba1865",
   "metadata": {},
   "outputs": [
    {
     "data": {
      "text/plain": [
       "Make                  object\n",
       "Model                 object\n",
       "Year                   int64\n",
       "Engine Fuel Type      object\n",
       "Engine HP            float64\n",
       "Engine Cylinders     float64\n",
       "Transmission Type     object\n",
       "Driven_Wheels         object\n",
       "Number of Doors      float64\n",
       "Market Category       object\n",
       "Vehicle Size          object\n",
       "Vehicle Style         object\n",
       "highway MPG            int64\n",
       "city mpg               int64\n",
       "Popularity             int64\n",
       "MSRP                   int64\n",
       "dtype: object"
      ]
     },
     "execution_count": 9,
     "metadata": {},
     "output_type": "execute_result"
    }
   ],
   "source": [
    "car_data.dtypes"
   ]
  },
  {
   "cell_type": "markdown",
   "id": "6fd860ec",
   "metadata": {},
   "source": [
    "**Information about the Date**"
   ]
  },
  {
   "cell_type": "code",
   "execution_count": 10,
   "id": "8ce750a0",
   "metadata": {},
   "outputs": [
    {
     "name": "stdout",
     "output_type": "stream",
     "text": [
      "<class 'pandas.core.frame.DataFrame'>\n",
      "RangeIndex: 11914 entries, 0 to 11913\n",
      "Data columns (total 16 columns):\n",
      " #   Column             Non-Null Count  Dtype  \n",
      "---  ------             --------------  -----  \n",
      " 0   Make               11914 non-null  object \n",
      " 1   Model              11914 non-null  object \n",
      " 2   Year               11914 non-null  int64  \n",
      " 3   Engine Fuel Type   11911 non-null  object \n",
      " 4   Engine HP          11845 non-null  float64\n",
      " 5   Engine Cylinders   11884 non-null  float64\n",
      " 6   Transmission Type  11914 non-null  object \n",
      " 7   Driven_Wheels      11914 non-null  object \n",
      " 8   Number of Doors    11908 non-null  float64\n",
      " 9   Market Category    8172 non-null   object \n",
      " 10  Vehicle Size       11914 non-null  object \n",
      " 11  Vehicle Style      11914 non-null  object \n",
      " 12  highway MPG        11914 non-null  int64  \n",
      " 13  city mpg           11914 non-null  int64  \n",
      " 14  Popularity         11914 non-null  int64  \n",
      " 15  MSRP               11914 non-null  int64  \n",
      "dtypes: float64(3), int64(5), object(8)\n",
      "memory usage: 1.5+ MB\n"
     ]
    }
   ],
   "source": [
    "car_data.info()   "
   ]
  },
  {
   "cell_type": "markdown",
   "id": "b72b9ae6",
   "metadata": {},
   "source": [
    "**Checking for null / missing values**"
   ]
  },
  {
   "cell_type": "code",
   "execution_count": 11,
   "id": "d07b2387",
   "metadata": {},
   "outputs": [
    {
     "data": {
      "text/plain": [
       "Make                    0\n",
       "Model                   0\n",
       "Year                    0\n",
       "Engine Fuel Type        3\n",
       "Engine HP              69\n",
       "Engine Cylinders       30\n",
       "Transmission Type       0\n",
       "Driven_Wheels           0\n",
       "Number of Doors         6\n",
       "Market Category      3742\n",
       "Vehicle Size            0\n",
       "Vehicle Style           0\n",
       "highway MPG             0\n",
       "city mpg                0\n",
       "Popularity              0\n",
       "MSRP                    0\n",
       "dtype: int64"
      ]
     },
     "execution_count": 11,
     "metadata": {},
     "output_type": "execute_result"
    }
   ],
   "source": [
    "car_data.isnull().sum()   #   checking null values and sum the null values in each columns"
   ]
  },
  {
   "cell_type": "markdown",
   "id": "a84810fc",
   "metadata": {},
   "source": [
    "**Selecting specific columns from the data:**"
   ]
  },
  {
   "cell_type": "code",
   "execution_count": 12,
   "id": "f517ae73",
   "metadata": {},
   "outputs": [
    {
     "data": {
      "text/html": [
       "<div>\n",
       "<style scoped>\n",
       "    .dataframe tbody tr th:only-of-type {\n",
       "        vertical-align: middle;\n",
       "    }\n",
       "\n",
       "    .dataframe tbody tr th {\n",
       "        vertical-align: top;\n",
       "    }\n",
       "\n",
       "    .dataframe thead th {\n",
       "        text-align: right;\n",
       "    }\n",
       "</style>\n",
       "<table border=\"1\" class=\"dataframe\">\n",
       "  <thead>\n",
       "    <tr style=\"text-align: right;\">\n",
       "      <th></th>\n",
       "      <th>Make</th>\n",
       "      <th>Model</th>\n",
       "      <th>Year</th>\n",
       "    </tr>\n",
       "  </thead>\n",
       "  <tbody>\n",
       "    <tr>\n",
       "      <th>0</th>\n",
       "      <td>BMW</td>\n",
       "      <td>1 Series M</td>\n",
       "      <td>2011</td>\n",
       "    </tr>\n",
       "    <tr>\n",
       "      <th>1</th>\n",
       "      <td>BMW</td>\n",
       "      <td>1 Series</td>\n",
       "      <td>2011</td>\n",
       "    </tr>\n",
       "    <tr>\n",
       "      <th>2</th>\n",
       "      <td>BMW</td>\n",
       "      <td>1 Series</td>\n",
       "      <td>2011</td>\n",
       "    </tr>\n",
       "    <tr>\n",
       "      <th>3</th>\n",
       "      <td>BMW</td>\n",
       "      <td>1 Series</td>\n",
       "      <td>2011</td>\n",
       "    </tr>\n",
       "    <tr>\n",
       "      <th>4</th>\n",
       "      <td>BMW</td>\n",
       "      <td>1 Series</td>\n",
       "      <td>2011</td>\n",
       "    </tr>\n",
       "  </tbody>\n",
       "</table>\n",
       "</div>"
      ],
      "text/plain": [
       "  Make       Model  Year\n",
       "0  BMW  1 Series M  2011\n",
       "1  BMW    1 Series  2011\n",
       "2  BMW    1 Series  2011\n",
       "3  BMW    1 Series  2011\n",
       "4  BMW    1 Series  2011"
      ]
     },
     "execution_count": 12,
     "metadata": {},
     "output_type": "execute_result"
    }
   ],
   "source": [
    "car_data[['Make','Model','Year']].head()       "
   ]
  },
  {
   "cell_type": "markdown",
   "id": "4ca9ad14",
   "metadata": {},
   "source": [
    "**Rename the columns:**"
   ]
  },
  {
   "cell_type": "code",
   "execution_count": 13,
   "id": "5d2a0391",
   "metadata": {},
   "outputs": [
    {
     "data": {
      "text/plain": [
       "Index(['Make', 'Model', 'Year', 'Engine Fuel Type', 'Engine HP',\n",
       "       'Engine Cylinders', 'Transmission Type', 'Driven_Wheels',\n",
       "       'Number of Doors', 'Market Category', 'Vehicle Size', 'Vehicle Style',\n",
       "       'highway MPG', 'city mpg', 'Popularity', 'MSRP'],\n",
       "      dtype='object')"
      ]
     },
     "execution_count": 13,
     "metadata": {},
     "output_type": "execute_result"
    }
   ],
   "source": [
    "car_data.columns     # list the columns names in the data"
   ]
  },
  {
   "cell_type": "code",
   "execution_count": 14,
   "id": "7798d97d",
   "metadata": {},
   "outputs": [
    {
     "data": {
      "text/html": [
       "<div>\n",
       "<style scoped>\n",
       "    .dataframe tbody tr th:only-of-type {\n",
       "        vertical-align: middle;\n",
       "    }\n",
       "\n",
       "    .dataframe tbody tr th {\n",
       "        vertical-align: top;\n",
       "    }\n",
       "\n",
       "    .dataframe thead th {\n",
       "        text-align: right;\n",
       "    }\n",
       "</style>\n",
       "<table border=\"1\" class=\"dataframe\">\n",
       "  <thead>\n",
       "    <tr style=\"text-align: right;\">\n",
       "      <th></th>\n",
       "      <th>Make</th>\n",
       "      <th>Model</th>\n",
       "      <th>Year</th>\n",
       "      <th>Fuel_Type</th>\n",
       "      <th>EngineHP</th>\n",
       "      <th>Cylinders</th>\n",
       "      <th>Transmission</th>\n",
       "      <th>Driven_Wheels</th>\n",
       "      <th>No_of_Doors</th>\n",
       "      <th>Category</th>\n",
       "      <th>Size</th>\n",
       "      <th>Style</th>\n",
       "      <th>Highway_MPG</th>\n",
       "      <th>City_mpg</th>\n",
       "      <th>Popularity</th>\n",
       "      <th>MSRP</th>\n",
       "    </tr>\n",
       "  </thead>\n",
       "  <tbody>\n",
       "    <tr>\n",
       "      <th>0</th>\n",
       "      <td>BMW</td>\n",
       "      <td>1 Series M</td>\n",
       "      <td>2011</td>\n",
       "      <td>premium unleaded (required)</td>\n",
       "      <td>335.0</td>\n",
       "      <td>6.0</td>\n",
       "      <td>MANUAL</td>\n",
       "      <td>rear wheel drive</td>\n",
       "      <td>2.0</td>\n",
       "      <td>Factory Tuner,Luxury,High-Performance</td>\n",
       "      <td>Compact</td>\n",
       "      <td>Coupe</td>\n",
       "      <td>26</td>\n",
       "      <td>19</td>\n",
       "      <td>3916</td>\n",
       "      <td>46135</td>\n",
       "    </tr>\n",
       "    <tr>\n",
       "      <th>1</th>\n",
       "      <td>BMW</td>\n",
       "      <td>1 Series</td>\n",
       "      <td>2011</td>\n",
       "      <td>premium unleaded (required)</td>\n",
       "      <td>300.0</td>\n",
       "      <td>6.0</td>\n",
       "      <td>MANUAL</td>\n",
       "      <td>rear wheel drive</td>\n",
       "      <td>2.0</td>\n",
       "      <td>Luxury,Performance</td>\n",
       "      <td>Compact</td>\n",
       "      <td>Convertible</td>\n",
       "      <td>28</td>\n",
       "      <td>19</td>\n",
       "      <td>3916</td>\n",
       "      <td>40650</td>\n",
       "    </tr>\n",
       "    <tr>\n",
       "      <th>2</th>\n",
       "      <td>BMW</td>\n",
       "      <td>1 Series</td>\n",
       "      <td>2011</td>\n",
       "      <td>premium unleaded (required)</td>\n",
       "      <td>300.0</td>\n",
       "      <td>6.0</td>\n",
       "      <td>MANUAL</td>\n",
       "      <td>rear wheel drive</td>\n",
       "      <td>2.0</td>\n",
       "      <td>Luxury,High-Performance</td>\n",
       "      <td>Compact</td>\n",
       "      <td>Coupe</td>\n",
       "      <td>28</td>\n",
       "      <td>20</td>\n",
       "      <td>3916</td>\n",
       "      <td>36350</td>\n",
       "    </tr>\n",
       "    <tr>\n",
       "      <th>3</th>\n",
       "      <td>BMW</td>\n",
       "      <td>1 Series</td>\n",
       "      <td>2011</td>\n",
       "      <td>premium unleaded (required)</td>\n",
       "      <td>230.0</td>\n",
       "      <td>6.0</td>\n",
       "      <td>MANUAL</td>\n",
       "      <td>rear wheel drive</td>\n",
       "      <td>2.0</td>\n",
       "      <td>Luxury,Performance</td>\n",
       "      <td>Compact</td>\n",
       "      <td>Coupe</td>\n",
       "      <td>28</td>\n",
       "      <td>18</td>\n",
       "      <td>3916</td>\n",
       "      <td>29450</td>\n",
       "    </tr>\n",
       "    <tr>\n",
       "      <th>4</th>\n",
       "      <td>BMW</td>\n",
       "      <td>1 Series</td>\n",
       "      <td>2011</td>\n",
       "      <td>premium unleaded (required)</td>\n",
       "      <td>230.0</td>\n",
       "      <td>6.0</td>\n",
       "      <td>MANUAL</td>\n",
       "      <td>rear wheel drive</td>\n",
       "      <td>2.0</td>\n",
       "      <td>Luxury</td>\n",
       "      <td>Compact</td>\n",
       "      <td>Convertible</td>\n",
       "      <td>28</td>\n",
       "      <td>18</td>\n",
       "      <td>3916</td>\n",
       "      <td>34500</td>\n",
       "    </tr>\n",
       "  </tbody>\n",
       "</table>\n",
       "</div>"
      ],
      "text/plain": [
       "  Make       Model  Year                    Fuel_Type  EngineHP  Cylinders  \\\n",
       "0  BMW  1 Series M  2011  premium unleaded (required)     335.0        6.0   \n",
       "1  BMW    1 Series  2011  premium unleaded (required)     300.0        6.0   \n",
       "2  BMW    1 Series  2011  premium unleaded (required)     300.0        6.0   \n",
       "3  BMW    1 Series  2011  premium unleaded (required)     230.0        6.0   \n",
       "4  BMW    1 Series  2011  premium unleaded (required)     230.0        6.0   \n",
       "\n",
       "  Transmission     Driven_Wheels  No_of_Doors  \\\n",
       "0       MANUAL  rear wheel drive          2.0   \n",
       "1       MANUAL  rear wheel drive          2.0   \n",
       "2       MANUAL  rear wheel drive          2.0   \n",
       "3       MANUAL  rear wheel drive          2.0   \n",
       "4       MANUAL  rear wheel drive          2.0   \n",
       "\n",
       "                                Category     Size        Style  Highway_MPG  \\\n",
       "0  Factory Tuner,Luxury,High-Performance  Compact        Coupe           26   \n",
       "1                     Luxury,Performance  Compact  Convertible           28   \n",
       "2                Luxury,High-Performance  Compact        Coupe           28   \n",
       "3                     Luxury,Performance  Compact        Coupe           28   \n",
       "4                                 Luxury  Compact  Convertible           28   \n",
       "\n",
       "   City_mpg  Popularity   MSRP  \n",
       "0        19        3916  46135  \n",
       "1        19        3916  40650  \n",
       "2        20        3916  36350  \n",
       "3        18        3916  29450  \n",
       "4        18        3916  34500  "
      ]
     },
     "execution_count": 14,
     "metadata": {},
     "output_type": "execute_result"
    }
   ],
   "source": [
    "car_data2 = car_data.rename(columns={'Engine HP':'EngineHP',\n",
    "                                     'Engine Fuel Type': 'Fuel_Type',\n",
    "                                     'Engine Cylinders': 'Cylinders',\n",
    "                                     'Transmission Type': 'Transmission',\n",
    "                                     'Number of Doors': 'No_of_Doors',\n",
    "                                     'Market Category': 'Category',\n",
    "                                     'Vehicle Size':'Size',\n",
    "                                     'Vehicle Style':'Style',\n",
    "                                     'highway MPG':'Highway_MPG',\n",
    "                                     'city mpg':'City_mpg'})\n",
    "\n",
    "car_data2.head()"
   ]
  },
  {
   "cell_type": "markdown",
   "id": "430435a6",
   "metadata": {},
   "source": [
    "**Missing Value Treatment**\n",
    "1. Drop missing values:\n",
    "2. Missing value imputation:"
   ]
  },
  {
   "cell_type": "code",
   "execution_count": 15,
   "id": "3bb5a201",
   "metadata": {},
   "outputs": [
    {
     "data": {
      "text/plain": [
       "Make                    0\n",
       "Model                   0\n",
       "Year                    0\n",
       "Engine Fuel Type        3\n",
       "Engine HP              69\n",
       "Engine Cylinders       30\n",
       "Transmission Type       0\n",
       "Driven_Wheels           0\n",
       "Number of Doors         6\n",
       "Market Category      3742\n",
       "Vehicle Size            0\n",
       "Vehicle Style           0\n",
       "highway MPG             0\n",
       "city mpg                0\n",
       "Popularity              0\n",
       "MSRP                    0\n",
       "dtype: int64"
      ]
     },
     "execution_count": 15,
     "metadata": {},
     "output_type": "execute_result"
    }
   ],
   "source": [
    "car_data.isnull().sum()"
   ]
  },
  {
   "cell_type": "code",
   "execution_count": 16,
   "id": "195eb160",
   "metadata": {},
   "outputs": [
    {
     "data": {
      "text/plain": [
       "Make                 0\n",
       "Model                0\n",
       "Year                 0\n",
       "Engine Fuel Type     0\n",
       "Engine HP            0\n",
       "Engine Cylinders     0\n",
       "Transmission Type    0\n",
       "Driven_Wheels        0\n",
       "Number of Doors      0\n",
       "Market Category      0\n",
       "Vehicle Size         0\n",
       "Vehicle Style        0\n",
       "highway MPG          0\n",
       "city mpg             0\n",
       "Popularity           0\n",
       "MSRP                 0\n",
       "dtype: int64"
      ]
     },
     "execution_count": 16,
     "metadata": {},
     "output_type": "execute_result"
    }
   ],
   "source": [
    "car_data3 = car_data.dropna(how='any')\n",
    "car_data3.isnull().sum()                      # dropna() remove the null values in the data"
   ]
  },
  {
   "cell_type": "code",
   "execution_count": 17,
   "id": "f56c05ea",
   "metadata": {},
   "outputs": [
    {
     "data": {
      "text/plain": [
       "(8084, 16)"
      ]
     },
     "execution_count": 17,
     "metadata": {},
     "output_type": "execute_result"
    }
   ],
   "source": [
    "car_data3.shape    # checking the shape of the data means check the how many rows and columns"
   ]
  },
  {
   "cell_type": "code",
   "execution_count": 18,
   "id": "75ab6414",
   "metadata": {
    "scrolled": true
   },
   "outputs": [
    {
     "data": {
      "text/plain": [
       "Make                    0\n",
       "Model                   0\n",
       "Year                    0\n",
       "Engine Fuel Type        3\n",
       "Engine HP              69\n",
       "Engine Cylinders       30\n",
       "Transmission Type       0\n",
       "Driven_Wheels           0\n",
       "Number of Doors         6\n",
       "Market Category      3742\n",
       "Vehicle Size            0\n",
       "Vehicle Style           0\n",
       "highway MPG             0\n",
       "city mpg                0\n",
       "Popularity              0\n",
       "MSRP                    0\n",
       "dtype: int64"
      ]
     },
     "execution_count": 18,
     "metadata": {},
     "output_type": "execute_result"
    }
   ],
   "source": [
    "car_data3 = car_data.dropna(how='all')\n",
    "car_data3.isnull().sum()"
   ]
  },
  {
   "cell_type": "code",
   "execution_count": 19,
   "id": "ef71df76",
   "metadata": {},
   "outputs": [
    {
     "data": {
      "text/plain": [
       "(11914, 16)"
      ]
     },
     "execution_count": 19,
     "metadata": {},
     "output_type": "execute_result"
    }
   ],
   "source": [
    "car_data.shape"
   ]
  },
  {
   "cell_type": "markdown",
   "id": "6dc4d612",
   "metadata": {},
   "source": [
    "**Missing Values Imputation**"
   ]
  },
  {
   "cell_type": "code",
   "execution_count": 20,
   "id": "d1df9b1b",
   "metadata": {},
   "outputs": [
    {
     "data": {
      "text/plain": [
       "0        Factory Tuner,Luxury,High-Performance\n",
       "1                           Luxury,Performance\n",
       "2                      Luxury,High-Performance\n",
       "3                           Luxury,Performance\n",
       "4                                       Luxury\n",
       "                         ...                  \n",
       "11909               Crossover,Hatchback,Luxury\n",
       "11910               Crossover,Hatchback,Luxury\n",
       "11911               Crossover,Hatchback,Luxury\n",
       "11912               Crossover,Hatchback,Luxury\n",
       "11913                                   Luxury\n",
       "Name: Category, Length: 11914, dtype: object"
      ]
     },
     "execution_count": 20,
     "metadata": {},
     "output_type": "execute_result"
    }
   ],
   "source": [
    "car_data2['Category']         "
   ]
  },
  {
   "cell_type": "code",
   "execution_count": 21,
   "id": "d66a7fb1",
   "metadata": {},
   "outputs": [
    {
     "data": {
      "text/plain": [
       "'Crossover'"
      ]
     },
     "execution_count": 21,
     "metadata": {},
     "output_type": "execute_result"
    }
   ],
   "source": [
    "# categorical column\n",
    "# imput the values using mode\n",
    "cat_mode = car_data2['Category'].mode()[0]\n",
    "cat_mode"
   ]
  },
  {
   "cell_type": "code",
   "execution_count": 22,
   "id": "b029a5d6",
   "metadata": {},
   "outputs": [],
   "source": [
    "car_data2['Category'] = car_data2['Category'].fillna('Crossover')"
   ]
  },
  {
   "cell_type": "code",
   "execution_count": 23,
   "id": "d966ed8f",
   "metadata": {},
   "outputs": [
    {
     "data": {
      "text/plain": [
       "0"
      ]
     },
     "execution_count": 23,
     "metadata": {},
     "output_type": "execute_result"
    }
   ],
   "source": [
    "car_data2['Category'].isnull().sum()"
   ]
  },
  {
   "cell_type": "code",
   "execution_count": 24,
   "id": "3b958293",
   "metadata": {},
   "outputs": [
    {
     "name": "stdout",
     "output_type": "stream",
     "text": [
      "0    4.0\n",
      "Name: Cylinders, dtype: float64\n"
     ]
    }
   ],
   "source": [
    "print(car_data2['Cylinders'].mode())"
   ]
  },
  {
   "cell_type": "code",
   "execution_count": 25,
   "id": "b0bfead0",
   "metadata": {},
   "outputs": [],
   "source": [
    "car_data2['Cylinders'] = car_data2['Cylinders'].fillna(4)"
   ]
  },
  {
   "cell_type": "code",
   "execution_count": 26,
   "id": "6870bc0c",
   "metadata": {},
   "outputs": [
    {
     "name": "stdout",
     "output_type": "stream",
     "text": [
      "249.38607007176023\n"
     ]
    }
   ],
   "source": [
    "print(car_data2['EngineHP'].mean())"
   ]
  },
  {
   "cell_type": "code",
   "execution_count": 27,
   "id": "860a2aa5",
   "metadata": {},
   "outputs": [],
   "source": [
    "car_data2['EngineHP'] = car_data2['EngineHP'].fillna(car_data2['EngineHP'].mean())"
   ]
  },
  {
   "cell_type": "code",
   "execution_count": 28,
   "id": "1401354c",
   "metadata": {},
   "outputs": [
    {
     "data": {
      "text/plain": [
       "4.0"
      ]
     },
     "execution_count": 28,
     "metadata": {},
     "output_type": "execute_result"
    }
   ],
   "source": [
    "car_data2['No_of_Doors'].mode()[0]"
   ]
  },
  {
   "cell_type": "code",
   "execution_count": 29,
   "id": "78a5232f",
   "metadata": {},
   "outputs": [],
   "source": [
    "car_data2['No_of_Doors'] = car_data2['No_of_Doors'].fillna(car_data2['No_of_Doors'].mode()[0])"
   ]
  },
  {
   "cell_type": "code",
   "execution_count": 30,
   "id": "c774a6a1",
   "metadata": {},
   "outputs": [
    {
     "data": {
      "text/plain": [
       "'regular unleaded'"
      ]
     },
     "execution_count": 30,
     "metadata": {},
     "output_type": "execute_result"
    }
   ],
   "source": [
    "car_data2['Fuel_Type'].mode()[0]"
   ]
  },
  {
   "cell_type": "code",
   "execution_count": 31,
   "id": "b038daac",
   "metadata": {},
   "outputs": [],
   "source": [
    "car_data2['Fuel_Type'] = car_data2['Fuel_Type'].fillna(car_data2['Fuel_Type'].mode()[0])"
   ]
  },
  {
   "cell_type": "code",
   "execution_count": 32,
   "id": "39dfe319",
   "metadata": {},
   "outputs": [
    {
     "data": {
      "text/plain": [
       "Make             0\n",
       "Model            0\n",
       "Year             0\n",
       "Fuel_Type        0\n",
       "EngineHP         0\n",
       "Cylinders        0\n",
       "Transmission     0\n",
       "Driven_Wheels    0\n",
       "No_of_Doors      0\n",
       "Category         0\n",
       "Size             0\n",
       "Style            0\n",
       "Highway_MPG      0\n",
       "City_mpg         0\n",
       "Popularity       0\n",
       "MSRP             0\n",
       "dtype: int64"
      ]
     },
     "execution_count": 32,
     "metadata": {},
     "output_type": "execute_result"
    }
   ],
   "source": [
    "car_data2.isnull().sum()"
   ]
  },
  {
   "cell_type": "code",
   "execution_count": 33,
   "id": "ee27d4ad",
   "metadata": {},
   "outputs": [
    {
     "data": {
      "text/plain": [
       "(11914, 16)"
      ]
     },
     "execution_count": 33,
     "metadata": {},
     "output_type": "execute_result"
    }
   ],
   "source": [
    "car_data2.shape"
   ]
  },
  {
   "cell_type": "markdown",
   "id": "7bf6674f",
   "metadata": {},
   "source": [
    "**Checking For Duplicate records / Rows**"
   ]
  },
  {
   "cell_type": "code",
   "execution_count": 34,
   "id": "c82e86e1",
   "metadata": {},
   "outputs": [
    {
     "data": {
      "text/plain": [
       "Make             715\n",
       "Model            715\n",
       "Year             715\n",
       "Fuel_Type        715\n",
       "EngineHP         715\n",
       "Cylinders        715\n",
       "Transmission     715\n",
       "Driven_Wheels    715\n",
       "No_of_Doors      715\n",
       "Category         715\n",
       "Size             715\n",
       "Style            715\n",
       "Highway_MPG      715\n",
       "City_mpg         715\n",
       "Popularity       715\n",
       "MSRP             715\n",
       "dtype: int64"
      ]
     },
     "execution_count": 34,
     "metadata": {},
     "output_type": "execute_result"
    }
   ],
   "source": [
    "dup_car_data = car_data2[car_data2.duplicated()].count()\n",
    "dup_car_data"
   ]
  },
  {
   "cell_type": "code",
   "execution_count": 35,
   "id": "fc67d18b",
   "metadata": {},
   "outputs": [
    {
     "data": {
      "text/plain": [
       "(11199, 16)"
      ]
     },
     "execution_count": 35,
     "metadata": {},
     "output_type": "execute_result"
    }
   ],
   "source": [
    "CarData = car_data2.drop_duplicates()\n",
    "CarData.shape"
   ]
  },
  {
   "cell_type": "code",
   "execution_count": 36,
   "id": "c47601e9",
   "metadata": {},
   "outputs": [
    {
     "data": {
      "text/html": [
       "<div>\n",
       "<style scoped>\n",
       "    .dataframe tbody tr th:only-of-type {\n",
       "        vertical-align: middle;\n",
       "    }\n",
       "\n",
       "    .dataframe tbody tr th {\n",
       "        vertical-align: top;\n",
       "    }\n",
       "\n",
       "    .dataframe thead th {\n",
       "        text-align: right;\n",
       "    }\n",
       "</style>\n",
       "<table border=\"1\" class=\"dataframe\">\n",
       "  <thead>\n",
       "    <tr style=\"text-align: right;\">\n",
       "      <th></th>\n",
       "      <th>Make</th>\n",
       "      <th>Model</th>\n",
       "      <th>Year</th>\n",
       "      <th>Fuel_Type</th>\n",
       "      <th>EngineHP</th>\n",
       "      <th>Cylinders</th>\n",
       "      <th>Transmission</th>\n",
       "      <th>Driven_Wheels</th>\n",
       "      <th>No_of_Doors</th>\n",
       "      <th>Category</th>\n",
       "      <th>Size</th>\n",
       "      <th>Style</th>\n",
       "      <th>Highway_MPG</th>\n",
       "      <th>City_mpg</th>\n",
       "      <th>Popularity</th>\n",
       "      <th>MSRP</th>\n",
       "    </tr>\n",
       "  </thead>\n",
       "  <tbody>\n",
       "    <tr>\n",
       "      <th>0</th>\n",
       "      <td>BMW</td>\n",
       "      <td>1 Series M</td>\n",
       "      <td>2011</td>\n",
       "      <td>premium unleaded (required)</td>\n",
       "      <td>335.0</td>\n",
       "      <td>6.0</td>\n",
       "      <td>MANUAL</td>\n",
       "      <td>rear wheel drive</td>\n",
       "      <td>2.0</td>\n",
       "      <td>Factory Tuner,Luxury,High-Performance</td>\n",
       "      <td>Compact</td>\n",
       "      <td>Coupe</td>\n",
       "      <td>26</td>\n",
       "      <td>19</td>\n",
       "      <td>3916</td>\n",
       "      <td>46135</td>\n",
       "    </tr>\n",
       "    <tr>\n",
       "      <th>1</th>\n",
       "      <td>BMW</td>\n",
       "      <td>1 Series</td>\n",
       "      <td>2011</td>\n",
       "      <td>premium unleaded (required)</td>\n",
       "      <td>300.0</td>\n",
       "      <td>6.0</td>\n",
       "      <td>MANUAL</td>\n",
       "      <td>rear wheel drive</td>\n",
       "      <td>2.0</td>\n",
       "      <td>Luxury,Performance</td>\n",
       "      <td>Compact</td>\n",
       "      <td>Convertible</td>\n",
       "      <td>28</td>\n",
       "      <td>19</td>\n",
       "      <td>3916</td>\n",
       "      <td>40650</td>\n",
       "    </tr>\n",
       "    <tr>\n",
       "      <th>2</th>\n",
       "      <td>BMW</td>\n",
       "      <td>1 Series</td>\n",
       "      <td>2011</td>\n",
       "      <td>premium unleaded (required)</td>\n",
       "      <td>300.0</td>\n",
       "      <td>6.0</td>\n",
       "      <td>MANUAL</td>\n",
       "      <td>rear wheel drive</td>\n",
       "      <td>2.0</td>\n",
       "      <td>Luxury,High-Performance</td>\n",
       "      <td>Compact</td>\n",
       "      <td>Coupe</td>\n",
       "      <td>28</td>\n",
       "      <td>20</td>\n",
       "      <td>3916</td>\n",
       "      <td>36350</td>\n",
       "    </tr>\n",
       "    <tr>\n",
       "      <th>3</th>\n",
       "      <td>BMW</td>\n",
       "      <td>1 Series</td>\n",
       "      <td>2011</td>\n",
       "      <td>premium unleaded (required)</td>\n",
       "      <td>230.0</td>\n",
       "      <td>6.0</td>\n",
       "      <td>MANUAL</td>\n",
       "      <td>rear wheel drive</td>\n",
       "      <td>2.0</td>\n",
       "      <td>Luxury,Performance</td>\n",
       "      <td>Compact</td>\n",
       "      <td>Coupe</td>\n",
       "      <td>28</td>\n",
       "      <td>18</td>\n",
       "      <td>3916</td>\n",
       "      <td>29450</td>\n",
       "    </tr>\n",
       "    <tr>\n",
       "      <th>4</th>\n",
       "      <td>BMW</td>\n",
       "      <td>1 Series</td>\n",
       "      <td>2011</td>\n",
       "      <td>premium unleaded (required)</td>\n",
       "      <td>230.0</td>\n",
       "      <td>6.0</td>\n",
       "      <td>MANUAL</td>\n",
       "      <td>rear wheel drive</td>\n",
       "      <td>2.0</td>\n",
       "      <td>Luxury</td>\n",
       "      <td>Compact</td>\n",
       "      <td>Convertible</td>\n",
       "      <td>28</td>\n",
       "      <td>18</td>\n",
       "      <td>3916</td>\n",
       "      <td>34500</td>\n",
       "    </tr>\n",
       "  </tbody>\n",
       "</table>\n",
       "</div>"
      ],
      "text/plain": [
       "  Make       Model  Year                    Fuel_Type  EngineHP  Cylinders  \\\n",
       "0  BMW  1 Series M  2011  premium unleaded (required)     335.0        6.0   \n",
       "1  BMW    1 Series  2011  premium unleaded (required)     300.0        6.0   \n",
       "2  BMW    1 Series  2011  premium unleaded (required)     300.0        6.0   \n",
       "3  BMW    1 Series  2011  premium unleaded (required)     230.0        6.0   \n",
       "4  BMW    1 Series  2011  premium unleaded (required)     230.0        6.0   \n",
       "\n",
       "  Transmission     Driven_Wheels  No_of_Doors  \\\n",
       "0       MANUAL  rear wheel drive          2.0   \n",
       "1       MANUAL  rear wheel drive          2.0   \n",
       "2       MANUAL  rear wheel drive          2.0   \n",
       "3       MANUAL  rear wheel drive          2.0   \n",
       "4       MANUAL  rear wheel drive          2.0   \n",
       "\n",
       "                                Category     Size        Style  Highway_MPG  \\\n",
       "0  Factory Tuner,Luxury,High-Performance  Compact        Coupe           26   \n",
       "1                     Luxury,Performance  Compact  Convertible           28   \n",
       "2                Luxury,High-Performance  Compact        Coupe           28   \n",
       "3                     Luxury,Performance  Compact        Coupe           28   \n",
       "4                                 Luxury  Compact  Convertible           28   \n",
       "\n",
       "   City_mpg  Popularity   MSRP  \n",
       "0        19        3916  46135  \n",
       "1        19        3916  40650  \n",
       "2        20        3916  36350  \n",
       "3        18        3916  29450  \n",
       "4        18        3916  34500  "
      ]
     },
     "execution_count": 36,
     "metadata": {},
     "output_type": "execute_result"
    }
   ],
   "source": [
    "CarData.head()"
   ]
  },
  {
   "cell_type": "markdown",
   "id": "8d11f561",
   "metadata": {},
   "source": [
    "**Unique categories in Specific columns:**"
   ]
  },
  {
   "cell_type": "code",
   "execution_count": 37,
   "id": "15868f5e",
   "metadata": {},
   "outputs": [
    {
     "data": {
      "text/plain": [
       "array(['BMW', 'Audi', 'FIAT', 'Mercedes-Benz', 'Chrysler', 'Nissan',\n",
       "       'Volvo', 'Mazda', 'Mitsubishi', 'Ferrari', 'Alfa Romeo', 'Toyota',\n",
       "       'McLaren', 'Maybach', 'Pontiac', 'Porsche', 'Saab', 'GMC',\n",
       "       'Hyundai', 'Plymouth', 'Honda', 'Oldsmobile', 'Suzuki', 'Ford',\n",
       "       'Cadillac', 'Kia', 'Bentley', 'Chevrolet', 'Dodge', 'Lamborghini',\n",
       "       'Lincoln', 'Subaru', 'Volkswagen', 'Spyker', 'Buick', 'Acura',\n",
       "       'Rolls-Royce', 'Maserati', 'Lexus', 'Aston Martin', 'Land Rover',\n",
       "       'Lotus', 'Infiniti', 'Scion', 'Genesis', 'HUMMER', 'Tesla',\n",
       "       'Bugatti'], dtype=object)"
      ]
     },
     "execution_count": 37,
     "metadata": {},
     "output_type": "execute_result"
    }
   ],
   "source": [
    "CarData['Make'].unique()#name of the mfrs in dataset"
   ]
  },
  {
   "cell_type": "code",
   "execution_count": 38,
   "id": "280a4534",
   "metadata": {},
   "outputs": [
    {
     "data": {
      "text/plain": [
       "48"
      ]
     },
     "execution_count": 38,
     "metadata": {},
     "output_type": "execute_result"
    }
   ],
   "source": [
    "CarData['Make'].nunique()#no of unique car make"
   ]
  },
  {
   "cell_type": "code",
   "execution_count": 39,
   "id": "c44a16a0",
   "metadata": {},
   "outputs": [
    {
     "data": {
      "text/plain": [
       "324"
      ]
     },
     "execution_count": 39,
     "metadata": {},
     "output_type": "execute_result"
    }
   ],
   "source": [
    "bmw = CarData['Make'][CarData['Make']=='BMW'].count()\n",
    "bmw"
   ]
  },
  {
   "cell_type": "code",
   "execution_count": 40,
   "id": "7f072edf",
   "metadata": {},
   "outputs": [
    {
     "data": {
      "text/plain": [
       "Chevrolet        1083\n",
       "Ford              825\n",
       "Toyota            719\n",
       "Volkswagen        568\n",
       "Nissan            551\n",
       "Dodge             529\n",
       "GMC               482\n",
       "Honda             433\n",
       "Mazda             412\n",
       "Cadillac          396\n",
       "Suzuki            342\n",
       "Mercedes-Benz     341\n",
       "Infiniti          328\n",
       "BMW               324\n",
       "Audi              321\n",
       "Volvo             266\n",
       "Hyundai           259\n",
       "Acura             246\n",
       "Subaru            239\n",
       "Kia               229\n",
       "Mitsubishi        208\n",
       "Lexus             202\n",
       "Buick             190\n",
       "Chrysler          187\n",
       "Pontiac           181\n",
       "Lincoln           160\n",
       "Land Rover        139\n",
       "Porsche           136\n",
       "Oldsmobile        132\n",
       "Saab              109\n",
       "Aston Martin       91\n",
       "Bentley            74\n",
       "Plymouth           71\n",
       "Ferrari            69\n",
       "FIAT               62\n",
       "Scion              60\n",
       "Maserati           55\n",
       "Lamborghini        52\n",
       "Rolls-Royce        31\n",
       "Lotus              28\n",
       "Tesla              18\n",
       "HUMMER             17\n",
       "Maybach            16\n",
       "McLaren             5\n",
       "Alfa Romeo          5\n",
       "Genesis             3\n",
       "Bugatti             3\n",
       "Spyker              2\n",
       "Name: Make, dtype: int64"
      ]
     },
     "execution_count": 40,
     "metadata": {},
     "output_type": "execute_result"
    }
   ],
   "source": [
    "CarData['Make'].value_counts() # no of cars in each make"
   ]
  },
  {
   "cell_type": "code",
   "execution_count": 41,
   "id": "367a547e",
   "metadata": {},
   "outputs": [
    {
     "data": {
      "text/plain": [
       "Sedan                  2843\n",
       "4dr SUV                2434\n",
       "Coupe                  1175\n",
       "Convertible             741\n",
       "4dr Hatchback           663\n",
       "Crew Cab Pickup         655\n",
       "Extended Cab Pickup     597\n",
       "Wagon                   562\n",
       "2dr Hatchback           412\n",
       "Passenger Minivan       389\n",
       "Regular Cab Pickup      345\n",
       "Passenger Van           121\n",
       "2dr SUV                  91\n",
       "Cargo Van                84\n",
       "Cargo Minivan            59\n",
       "Convertible SUV          28\n",
       "Name: Style, dtype: int64"
      ]
     },
     "execution_count": 41,
     "metadata": {},
     "output_type": "execute_result"
    }
   ],
   "source": [
    "CarData['Style'].value_counts() # "
   ]
  },
  {
   "cell_type": "markdown",
   "id": "41d7db03",
   "metadata": {},
   "source": [
    "**Basic Statastics of Numarica columns:**"
   ]
  },
  {
   "cell_type": "code",
   "execution_count": 42,
   "id": "5f548977",
   "metadata": {},
   "outputs": [
    {
     "data": {
      "text/html": [
       "<div>\n",
       "<style scoped>\n",
       "    .dataframe tbody tr th:only-of-type {\n",
       "        vertical-align: middle;\n",
       "    }\n",
       "\n",
       "    .dataframe tbody tr th {\n",
       "        vertical-align: top;\n",
       "    }\n",
       "\n",
       "    .dataframe thead th {\n",
       "        text-align: right;\n",
       "    }\n",
       "</style>\n",
       "<table border=\"1\" class=\"dataframe\">\n",
       "  <thead>\n",
       "    <tr style=\"text-align: right;\">\n",
       "      <th></th>\n",
       "      <th>Year</th>\n",
       "      <th>EngineHP</th>\n",
       "      <th>Cylinders</th>\n",
       "      <th>No_of_Doors</th>\n",
       "      <th>Highway_MPG</th>\n",
       "      <th>City_mpg</th>\n",
       "      <th>Popularity</th>\n",
       "      <th>MSRP</th>\n",
       "    </tr>\n",
       "  </thead>\n",
       "  <tbody>\n",
       "    <tr>\n",
       "      <th>count</th>\n",
       "      <td>11199.000000</td>\n",
       "      <td>11199.000000</td>\n",
       "      <td>11199.000000</td>\n",
       "      <td>11199.000000</td>\n",
       "      <td>11199.000000</td>\n",
       "      <td>11199.000000</td>\n",
       "      <td>11199.000000</td>\n",
       "      <td>1.119900e+04</td>\n",
       "    </tr>\n",
       "    <tr>\n",
       "      <th>mean</th>\n",
       "      <td>2010.714528</td>\n",
       "      <td>253.364197</td>\n",
       "      <td>5.661488</td>\n",
       "      <td>3.454416</td>\n",
       "      <td>26.610590</td>\n",
       "      <td>19.731851</td>\n",
       "      <td>1558.483347</td>\n",
       "      <td>4.192593e+04</td>\n",
       "    </tr>\n",
       "    <tr>\n",
       "      <th>std</th>\n",
       "      <td>7.228211</td>\n",
       "      <td>109.811495</td>\n",
       "      <td>1.796677</td>\n",
       "      <td>0.872804</td>\n",
       "      <td>8.977641</td>\n",
       "      <td>9.177555</td>\n",
       "      <td>1445.668872</td>\n",
       "      <td>6.153505e+04</td>\n",
       "    </tr>\n",
       "    <tr>\n",
       "      <th>min</th>\n",
       "      <td>1990.000000</td>\n",
       "      <td>55.000000</td>\n",
       "      <td>0.000000</td>\n",
       "      <td>2.000000</td>\n",
       "      <td>12.000000</td>\n",
       "      <td>7.000000</td>\n",
       "      <td>2.000000</td>\n",
       "      <td>2.000000e+03</td>\n",
       "    </tr>\n",
       "    <tr>\n",
       "      <th>25%</th>\n",
       "      <td>2007.000000</td>\n",
       "      <td>172.000000</td>\n",
       "      <td>4.000000</td>\n",
       "      <td>2.000000</td>\n",
       "      <td>22.000000</td>\n",
       "      <td>16.000000</td>\n",
       "      <td>549.000000</td>\n",
       "      <td>2.159950e+04</td>\n",
       "    </tr>\n",
       "    <tr>\n",
       "      <th>50%</th>\n",
       "      <td>2015.000000</td>\n",
       "      <td>240.000000</td>\n",
       "      <td>6.000000</td>\n",
       "      <td>4.000000</td>\n",
       "      <td>25.000000</td>\n",
       "      <td>18.000000</td>\n",
       "      <td>1385.000000</td>\n",
       "      <td>3.067500e+04</td>\n",
       "    </tr>\n",
       "    <tr>\n",
       "      <th>75%</th>\n",
       "      <td>2016.000000</td>\n",
       "      <td>303.000000</td>\n",
       "      <td>6.000000</td>\n",
       "      <td>4.000000</td>\n",
       "      <td>30.000000</td>\n",
       "      <td>22.000000</td>\n",
       "      <td>2009.000000</td>\n",
       "      <td>4.303250e+04</td>\n",
       "    </tr>\n",
       "    <tr>\n",
       "      <th>max</th>\n",
       "      <td>2017.000000</td>\n",
       "      <td>1001.000000</td>\n",
       "      <td>16.000000</td>\n",
       "      <td>4.000000</td>\n",
       "      <td>354.000000</td>\n",
       "      <td>137.000000</td>\n",
       "      <td>5657.000000</td>\n",
       "      <td>2.065902e+06</td>\n",
       "    </tr>\n",
       "  </tbody>\n",
       "</table>\n",
       "</div>"
      ],
      "text/plain": [
       "               Year      EngineHP     Cylinders   No_of_Doors   Highway_MPG  \\\n",
       "count  11199.000000  11199.000000  11199.000000  11199.000000  11199.000000   \n",
       "mean    2010.714528    253.364197      5.661488      3.454416     26.610590   \n",
       "std        7.228211    109.811495      1.796677      0.872804      8.977641   \n",
       "min     1990.000000     55.000000      0.000000      2.000000     12.000000   \n",
       "25%     2007.000000    172.000000      4.000000      2.000000     22.000000   \n",
       "50%     2015.000000    240.000000      6.000000      4.000000     25.000000   \n",
       "75%     2016.000000    303.000000      6.000000      4.000000     30.000000   \n",
       "max     2017.000000   1001.000000     16.000000      4.000000    354.000000   \n",
       "\n",
       "           City_mpg    Popularity          MSRP  \n",
       "count  11199.000000  11199.000000  1.119900e+04  \n",
       "mean      19.731851   1558.483347  4.192593e+04  \n",
       "std        9.177555   1445.668872  6.153505e+04  \n",
       "min        7.000000      2.000000  2.000000e+03  \n",
       "25%       16.000000    549.000000  2.159950e+04  \n",
       "50%       18.000000   1385.000000  3.067500e+04  \n",
       "75%       22.000000   2009.000000  4.303250e+04  \n",
       "max      137.000000   5657.000000  2.065902e+06  "
      ]
     },
     "execution_count": 42,
     "metadata": {},
     "output_type": "execute_result"
    }
   ],
   "source": [
    "CarData.describe()"
   ]
  },
  {
   "cell_type": "code",
   "execution_count": 43,
   "id": "be0b892c",
   "metadata": {},
   "outputs": [
    {
     "data": {
      "text/plain": [
       "(56, 16)"
      ]
     },
     "execution_count": 43,
     "metadata": {},
     "output_type": "execute_result"
    }
   ],
   "source": [
    "CarData[CarData['Cylinders']==0].shape # electric car data"
   ]
  },
  {
   "cell_type": "code",
   "execution_count": 44,
   "id": "bb3fe408",
   "metadata": {},
   "outputs": [
    {
     "data": {
      "text/html": [
       "<div>\n",
       "<style scoped>\n",
       "    .dataframe tbody tr th:only-of-type {\n",
       "        vertical-align: middle;\n",
       "    }\n",
       "\n",
       "    .dataframe tbody tr th {\n",
       "        vertical-align: top;\n",
       "    }\n",
       "\n",
       "    .dataframe thead th {\n",
       "        text-align: right;\n",
       "    }\n",
       "</style>\n",
       "<table border=\"1\" class=\"dataframe\">\n",
       "  <thead>\n",
       "    <tr style=\"text-align: right;\">\n",
       "      <th></th>\n",
       "      <th>Make</th>\n",
       "      <th>Model</th>\n",
       "      <th>Year</th>\n",
       "      <th>Fuel_Type</th>\n",
       "      <th>EngineHP</th>\n",
       "      <th>Cylinders</th>\n",
       "      <th>Transmission</th>\n",
       "      <th>Driven_Wheels</th>\n",
       "      <th>No_of_Doors</th>\n",
       "      <th>Category</th>\n",
       "      <th>Size</th>\n",
       "      <th>Style</th>\n",
       "      <th>Highway_MPG</th>\n",
       "      <th>City_mpg</th>\n",
       "      <th>Popularity</th>\n",
       "      <th>MSRP</th>\n",
       "    </tr>\n",
       "  </thead>\n",
       "  <tbody>\n",
       "    <tr>\n",
       "      <th>539</th>\n",
       "      <td>FIAT</td>\n",
       "      <td>500e</td>\n",
       "      <td>2015</td>\n",
       "      <td>electric</td>\n",
       "      <td>249.38607</td>\n",
       "      <td>0.0</td>\n",
       "      <td>DIRECT_DRIVE</td>\n",
       "      <td>front wheel drive</td>\n",
       "      <td>2.0</td>\n",
       "      <td>Hatchback</td>\n",
       "      <td>Compact</td>\n",
       "      <td>2dr Hatchback</td>\n",
       "      <td>108</td>\n",
       "      <td>122</td>\n",
       "      <td>819</td>\n",
       "      <td>31800</td>\n",
       "    </tr>\n",
       "    <tr>\n",
       "      <th>540</th>\n",
       "      <td>FIAT</td>\n",
       "      <td>500e</td>\n",
       "      <td>2016</td>\n",
       "      <td>electric</td>\n",
       "      <td>249.38607</td>\n",
       "      <td>0.0</td>\n",
       "      <td>DIRECT_DRIVE</td>\n",
       "      <td>front wheel drive</td>\n",
       "      <td>2.0</td>\n",
       "      <td>Hatchback</td>\n",
       "      <td>Compact</td>\n",
       "      <td>2dr Hatchback</td>\n",
       "      <td>103</td>\n",
       "      <td>121</td>\n",
       "      <td>819</td>\n",
       "      <td>31800</td>\n",
       "    </tr>\n",
       "    <tr>\n",
       "      <th>541</th>\n",
       "      <td>FIAT</td>\n",
       "      <td>500e</td>\n",
       "      <td>2017</td>\n",
       "      <td>electric</td>\n",
       "      <td>249.38607</td>\n",
       "      <td>0.0</td>\n",
       "      <td>DIRECT_DRIVE</td>\n",
       "      <td>front wheel drive</td>\n",
       "      <td>2.0</td>\n",
       "      <td>Hatchback</td>\n",
       "      <td>Compact</td>\n",
       "      <td>2dr Hatchback</td>\n",
       "      <td>103</td>\n",
       "      <td>121</td>\n",
       "      <td>819</td>\n",
       "      <td>31800</td>\n",
       "    </tr>\n",
       "  </tbody>\n",
       "</table>\n",
       "</div>"
      ],
      "text/plain": [
       "     Make Model  Year Fuel_Type   EngineHP  Cylinders  Transmission  \\\n",
       "539  FIAT  500e  2015  electric  249.38607        0.0  DIRECT_DRIVE   \n",
       "540  FIAT  500e  2016  electric  249.38607        0.0  DIRECT_DRIVE   \n",
       "541  FIAT  500e  2017  electric  249.38607        0.0  DIRECT_DRIVE   \n",
       "\n",
       "         Driven_Wheels  No_of_Doors   Category     Size          Style  \\\n",
       "539  front wheel drive          2.0  Hatchback  Compact  2dr Hatchback   \n",
       "540  front wheel drive          2.0  Hatchback  Compact  2dr Hatchback   \n",
       "541  front wheel drive          2.0  Hatchback  Compact  2dr Hatchback   \n",
       "\n",
       "     Highway_MPG  City_mpg  Popularity   MSRP  \n",
       "539          108       122         819  31800  \n",
       "540          103       121         819  31800  \n",
       "541          103       121         819  31800  "
      ]
     },
     "execution_count": 44,
     "metadata": {},
     "output_type": "execute_result"
    }
   ],
   "source": [
    "ele_data = CarData[CarData['Fuel_Type']=='electric'] # electric car of FIAT make\n",
    "ele_data[ele_data['Make']=='FIAT']"
   ]
  },
  {
   "cell_type": "code",
   "execution_count": 45,
   "id": "d0cdb19e",
   "metadata": {},
   "outputs": [
    {
     "data": {
      "text/html": [
       "<div>\n",
       "<style scoped>\n",
       "    .dataframe tbody tr th:only-of-type {\n",
       "        vertical-align: middle;\n",
       "    }\n",
       "\n",
       "    .dataframe tbody tr th {\n",
       "        vertical-align: top;\n",
       "    }\n",
       "\n",
       "    .dataframe thead th {\n",
       "        text-align: right;\n",
       "    }\n",
       "</style>\n",
       "<table border=\"1\" class=\"dataframe\">\n",
       "  <thead>\n",
       "    <tr style=\"text-align: right;\">\n",
       "      <th></th>\n",
       "      <th>Make</th>\n",
       "      <th>Model</th>\n",
       "      <th>Year</th>\n",
       "      <th>Fuel_Type</th>\n",
       "      <th>EngineHP</th>\n",
       "      <th>Cylinders</th>\n",
       "      <th>Transmission</th>\n",
       "      <th>Driven_Wheels</th>\n",
       "      <th>No_of_Doors</th>\n",
       "      <th>Category</th>\n",
       "      <th>Size</th>\n",
       "      <th>Style</th>\n",
       "      <th>Highway_MPG</th>\n",
       "      <th>City_mpg</th>\n",
       "      <th>Popularity</th>\n",
       "      <th>MSRP</th>\n",
       "    </tr>\n",
       "  </thead>\n",
       "  <tbody>\n",
       "    <tr>\n",
       "      <th>539</th>\n",
       "      <td>FIAT</td>\n",
       "      <td>500e</td>\n",
       "      <td>2015</td>\n",
       "      <td>electric</td>\n",
       "      <td>249.38607</td>\n",
       "      <td>0.0</td>\n",
       "      <td>DIRECT_DRIVE</td>\n",
       "      <td>front wheel drive</td>\n",
       "      <td>2.0</td>\n",
       "      <td>Hatchback</td>\n",
       "      <td>Compact</td>\n",
       "      <td>2dr Hatchback</td>\n",
       "      <td>108</td>\n",
       "      <td>122</td>\n",
       "      <td>819</td>\n",
       "      <td>31800</td>\n",
       "    </tr>\n",
       "    <tr>\n",
       "      <th>540</th>\n",
       "      <td>FIAT</td>\n",
       "      <td>500e</td>\n",
       "      <td>2016</td>\n",
       "      <td>electric</td>\n",
       "      <td>249.38607</td>\n",
       "      <td>0.0</td>\n",
       "      <td>DIRECT_DRIVE</td>\n",
       "      <td>front wheel drive</td>\n",
       "      <td>2.0</td>\n",
       "      <td>Hatchback</td>\n",
       "      <td>Compact</td>\n",
       "      <td>2dr Hatchback</td>\n",
       "      <td>103</td>\n",
       "      <td>121</td>\n",
       "      <td>819</td>\n",
       "      <td>31800</td>\n",
       "    </tr>\n",
       "    <tr>\n",
       "      <th>541</th>\n",
       "      <td>FIAT</td>\n",
       "      <td>500e</td>\n",
       "      <td>2017</td>\n",
       "      <td>electric</td>\n",
       "      <td>249.38607</td>\n",
       "      <td>0.0</td>\n",
       "      <td>DIRECT_DRIVE</td>\n",
       "      <td>front wheel drive</td>\n",
       "      <td>2.0</td>\n",
       "      <td>Hatchback</td>\n",
       "      <td>Compact</td>\n",
       "      <td>2dr Hatchback</td>\n",
       "      <td>103</td>\n",
       "      <td>121</td>\n",
       "      <td>819</td>\n",
       "      <td>31800</td>\n",
       "    </tr>\n",
       "  </tbody>\n",
       "</table>\n",
       "</div>"
      ],
      "text/plain": [
       "     Make Model  Year Fuel_Type   EngineHP  Cylinders  Transmission  \\\n",
       "539  FIAT  500e  2015  electric  249.38607        0.0  DIRECT_DRIVE   \n",
       "540  FIAT  500e  2016  electric  249.38607        0.0  DIRECT_DRIVE   \n",
       "541  FIAT  500e  2017  electric  249.38607        0.0  DIRECT_DRIVE   \n",
       "\n",
       "         Driven_Wheels  No_of_Doors   Category     Size          Style  \\\n",
       "539  front wheel drive          2.0  Hatchback  Compact  2dr Hatchback   \n",
       "540  front wheel drive          2.0  Hatchback  Compact  2dr Hatchback   \n",
       "541  front wheel drive          2.0  Hatchback  Compact  2dr Hatchback   \n",
       "\n",
       "     Highway_MPG  City_mpg  Popularity   MSRP  \n",
       "539          108       122         819  31800  \n",
       "540          103       121         819  31800  \n",
       "541          103       121         819  31800  "
      ]
     },
     "execution_count": 45,
     "metadata": {},
     "output_type": "execute_result"
    }
   ],
   "source": [
    "CarData[(CarData['Make'] == 'FIAT') & (CarData['Fuel_Type']=='electric')]"
   ]
  },
  {
   "cell_type": "code",
   "execution_count": 46,
   "id": "be67cc4b",
   "metadata": {},
   "outputs": [
    {
     "name": "stdout",
     "output_type": "stream",
     "text": [
      "2065902\n"
     ]
    },
    {
     "data": {
      "text/html": [
       "<div>\n",
       "<style scoped>\n",
       "    .dataframe tbody tr th:only-of-type {\n",
       "        vertical-align: middle;\n",
       "    }\n",
       "\n",
       "    .dataframe tbody tr th {\n",
       "        vertical-align: top;\n",
       "    }\n",
       "\n",
       "    .dataframe thead th {\n",
       "        text-align: right;\n",
       "    }\n",
       "</style>\n",
       "<table border=\"1\" class=\"dataframe\">\n",
       "  <thead>\n",
       "    <tr style=\"text-align: right;\">\n",
       "      <th></th>\n",
       "      <th>Make</th>\n",
       "      <th>Model</th>\n",
       "      <th>Year</th>\n",
       "      <th>Fuel_Type</th>\n",
       "      <th>EngineHP</th>\n",
       "      <th>Cylinders</th>\n",
       "      <th>Transmission</th>\n",
       "      <th>Driven_Wheels</th>\n",
       "      <th>No_of_Doors</th>\n",
       "      <th>Category</th>\n",
       "      <th>Size</th>\n",
       "      <th>Style</th>\n",
       "      <th>Highway_MPG</th>\n",
       "      <th>City_mpg</th>\n",
       "      <th>Popularity</th>\n",
       "      <th>MSRP</th>\n",
       "    </tr>\n",
       "  </thead>\n",
       "  <tbody>\n",
       "    <tr>\n",
       "      <th>11362</th>\n",
       "      <td>Bugatti</td>\n",
       "      <td>Veyron 16.4</td>\n",
       "      <td>2008</td>\n",
       "      <td>premium unleaded (required)</td>\n",
       "      <td>1001.0</td>\n",
       "      <td>16.0</td>\n",
       "      <td>AUTOMATED_MANUAL</td>\n",
       "      <td>all wheel drive</td>\n",
       "      <td>2.0</td>\n",
       "      <td>Exotic,High-Performance</td>\n",
       "      <td>Compact</td>\n",
       "      <td>Coupe</td>\n",
       "      <td>14</td>\n",
       "      <td>8</td>\n",
       "      <td>820</td>\n",
       "      <td>2065902</td>\n",
       "    </tr>\n",
       "  </tbody>\n",
       "</table>\n",
       "</div>"
      ],
      "text/plain": [
       "          Make        Model  Year                    Fuel_Type  EngineHP  \\\n",
       "11362  Bugatti  Veyron 16.4  2008  premium unleaded (required)    1001.0   \n",
       "\n",
       "       Cylinders      Transmission    Driven_Wheels  No_of_Doors  \\\n",
       "11362       16.0  AUTOMATED_MANUAL  all wheel drive          2.0   \n",
       "\n",
       "                      Category     Size  Style  Highway_MPG  City_mpg  \\\n",
       "11362  Exotic,High-Performance  Compact  Coupe           14         8   \n",
       "\n",
       "       Popularity     MSRP  \n",
       "11362         820  2065902  "
      ]
     },
     "execution_count": 46,
     "metadata": {},
     "output_type": "execute_result"
    }
   ],
   "source": [
    "Max_price = CarData['MSRP'].max()\n",
    "print(Max_price)\n",
    "CarData[CarData['MSRP'] == Max_price] # expencive car in the dataset"
   ]
  },
  {
   "cell_type": "code",
   "execution_count": 47,
   "id": "1f601a77",
   "metadata": {
    "scrolled": true
   },
   "outputs": [
    {
     "data": {
      "text/html": [
       "<div>\n",
       "<style scoped>\n",
       "    .dataframe tbody tr th:only-of-type {\n",
       "        vertical-align: middle;\n",
       "    }\n",
       "\n",
       "    .dataframe tbody tr th {\n",
       "        vertical-align: top;\n",
       "    }\n",
       "\n",
       "    .dataframe thead th {\n",
       "        text-align: right;\n",
       "    }\n",
       "</style>\n",
       "<table border=\"1\" class=\"dataframe\">\n",
       "  <thead>\n",
       "    <tr style=\"text-align: right;\">\n",
       "      <th></th>\n",
       "      <th>Make</th>\n",
       "      <th>Model</th>\n",
       "      <th>Year</th>\n",
       "      <th>Fuel_Type</th>\n",
       "      <th>EngineHP</th>\n",
       "      <th>Cylinders</th>\n",
       "      <th>Transmission</th>\n",
       "      <th>Driven_Wheels</th>\n",
       "      <th>No_of_Doors</th>\n",
       "      <th>Category</th>\n",
       "      <th>Size</th>\n",
       "      <th>Style</th>\n",
       "      <th>Highway_MPG</th>\n",
       "      <th>City_mpg</th>\n",
       "      <th>Popularity</th>\n",
       "      <th>MSRP</th>\n",
       "    </tr>\n",
       "  </thead>\n",
       "  <tbody>\n",
       "    <tr>\n",
       "      <th>6932</th>\n",
       "      <td>Tesla</td>\n",
       "      <td>Model S</td>\n",
       "      <td>2016</td>\n",
       "      <td>electric</td>\n",
       "      <td>249.38607</td>\n",
       "      <td>0.0</td>\n",
       "      <td>DIRECT_DRIVE</td>\n",
       "      <td>all wheel drive</td>\n",
       "      <td>4.0</td>\n",
       "      <td>Exotic,High-Performance</td>\n",
       "      <td>Large</td>\n",
       "      <td>Sedan</td>\n",
       "      <td>105</td>\n",
       "      <td>92</td>\n",
       "      <td>1391</td>\n",
       "      <td>134500</td>\n",
       "    </tr>\n",
       "  </tbody>\n",
       "</table>\n",
       "</div>"
      ],
      "text/plain": [
       "       Make    Model  Year Fuel_Type   EngineHP  Cylinders  Transmission  \\\n",
       "6932  Tesla  Model S  2016  electric  249.38607        0.0  DIRECT_DRIVE   \n",
       "\n",
       "        Driven_Wheels  No_of_Doors                 Category   Size  Style  \\\n",
       "6932  all wheel drive          4.0  Exotic,High-Performance  Large  Sedan   \n",
       "\n",
       "      Highway_MPG  City_mpg  Popularity    MSRP  \n",
       "6932          105        92        1391  134500  "
      ]
     },
     "execution_count": 47,
     "metadata": {},
     "output_type": "execute_result"
    }
   ],
   "source": [
    "tesla_data = CarData[CarData['Make'] == 'Tesla'] # most expencive tesla car\n",
    "max_price_tesla = tesla_data['MSRP'].max()\n",
    "tesla_data[tesla_data['MSRP'] == max_price_tesla]"
   ]
  },
  {
   "cell_type": "code",
   "execution_count": 48,
   "id": "9b714190",
   "metadata": {},
   "outputs": [
    {
     "data": {
      "text/plain": [
       "Spyker              2\n",
       "Genesis             3\n",
       "Bugatti             3\n",
       "Alfa Romeo          5\n",
       "McLaren             5\n",
       "Maybach            16\n",
       "HUMMER             17\n",
       "Tesla              18\n",
       "Lotus              28\n",
       "Rolls-Royce        31\n",
       "Lamborghini        52\n",
       "Maserati           55\n",
       "Scion              60\n",
       "FIAT               62\n",
       "Ferrari            69\n",
       "Plymouth           71\n",
       "Bentley            74\n",
       "Aston Martin       91\n",
       "Saab              109\n",
       "Oldsmobile        132\n",
       "Porsche           136\n",
       "Land Rover        139\n",
       "Lincoln           160\n",
       "Pontiac           181\n",
       "Chrysler          187\n",
       "Buick             190\n",
       "Lexus             202\n",
       "Mitsubishi        208\n",
       "Kia               229\n",
       "Subaru            239\n",
       "Acura             246\n",
       "Hyundai           259\n",
       "Volvo             266\n",
       "Audi              321\n",
       "BMW               324\n",
       "Infiniti          328\n",
       "Mercedes-Benz     341\n",
       "Suzuki            342\n",
       "Cadillac          396\n",
       "Mazda             412\n",
       "Honda             433\n",
       "GMC               482\n",
       "Dodge             529\n",
       "Nissan            551\n",
       "Volkswagen        568\n",
       "Toyota            719\n",
       "Ford              825\n",
       "Chevrolet        1083\n",
       "Name: Make, dtype: int64"
      ]
     },
     "execution_count": 48,
     "metadata": {},
     "output_type": "execute_result"
    }
   ],
   "source": [
    "CarData['Make'].value_counts(ascending = True)"
   ]
  },
  {
   "cell_type": "markdown",
   "id": "f307cc7d",
   "metadata": {},
   "source": [
    "**Data Visualization**"
   ]
  },
  {
   "cell_type": "code",
   "execution_count": 49,
   "id": "5e11d626",
   "metadata": {},
   "outputs": [
    {
     "data": {
      "text/plain": [
       "<Axes: >"
      ]
     },
     "execution_count": 49,
     "metadata": {},
     "output_type": "execute_result"
    },
    {
     "data": {
      "image/png": "[encoded data removed]",
      "text/plain": [
       "<Figure size 640x480 with 1 Axes>"
      ]
     },
     "metadata": {},
     "output_type": "display_data"
    }
   ],
   "source": [
    "#CarData['Make'].value_counts().plot(kind = 'bar')\n",
    "top_5_makes = CarData['Make'].value_counts().head(10)\n",
    "top_5_makes.plot(kind='bar')"
   ]
  },
  {
   "cell_type": "code",
   "execution_count": 50,
   "id": "861eea32",
   "metadata": {},
   "outputs": [
    {
     "data": {
      "text/plain": [
       "<Axes: ylabel='Style'>"
      ]
     },
     "execution_count": 50,
     "metadata": {},
     "output_type": "execute_result"
    },
    {
     "data": {
      "image/png": "[encoded data removed]",
      "text/plain": [
       "<Figure size 640x480 with 1 Axes>"
      ]
     },
     "metadata": {},
     "output_type": "display_data"
    }
   ],
   "source": [
    "CarData['Style'].value_counts().head(5).plot(kind = 'pie')"
   ]
  },
  {
   "cell_type": "code",
   "execution_count": 51,
   "id": "b8035cc2",
   "metadata": {},
   "outputs": [
    {
     "data": {
      "text/plain": [
       "<Axes: >"
      ]
     },
     "execution_count": 51,
     "metadata": {},
     "output_type": "execute_result"
    },
    {
     "data": {
      "image/png": "[encoded data removed]",
      "text/plain": [
       "<Figure size 640x480 with 1 Axes>"
      ]
     },
     "metadata": {},
     "output_type": "display_data"
    }
   ],
   "source": [
    "CarData['Size'].value_counts().plot(kind = 'bar')"
   ]
  },
  {
   "cell_type": "code",
   "execution_count": 52,
   "id": "46fbdb0d",
   "metadata": {},
   "outputs": [
    {
     "data": {
      "text/plain": [
       "<Axes: ylabel='Frequency'>"
      ]
     },
     "execution_count": 52,
     "metadata": {},
     "output_type": "execute_result"
    },
    {
     "data": {
      "image/png": "[encoded data removed]",
      "text/plain": [
       "<Figure size 640x480 with 1 Axes>"
      ]
     },
     "metadata": {},
     "output_type": "display_data"
    }
   ],
   "source": [
    "CarData['MSRP'].plot(kind = 'hist')"
   ]
  },
  {
   "cell_type": "code",
   "execution_count": 53,
   "id": "5f409ed1",
   "metadata": {},
   "outputs": [
    {
     "data": {
      "text/plain": [
       "<Axes: ylabel='Frequency'>"
      ]
     },
     "execution_count": 53,
     "metadata": {},
     "output_type": "execute_result"
    },
    {
     "data": {
      "image/png": "[encoded data removed]",
      "text/plain": [
       "<Figure size 640x480 with 1 Axes>"
      ]
     },
     "metadata": {},
     "output_type": "display_data"
    }
   ],
   "source": [
    "CarData['EngineHP'].plot(kind = 'hist')"
   ]
  },
  {
   "cell_type": "code",
   "execution_count": 54,
   "id": "9329252e",
   "metadata": {},
   "outputs": [
    {
     "data": {
      "text/plain": [
       "<Axes: >"
      ]
     },
     "execution_count": 54,
     "metadata": {},
     "output_type": "execute_result"
    },
    {
     "data": {
      "image/png": "[encoded data removed]",
      "text/plain": [
       "<Figure size 640x480 with 1 Axes>"
      ]
     },
     "metadata": {},
     "output_type": "display_data"
    }
   ],
   "source": [
    "CarData['MSRP'].head(5).plot(kind = 'bar')"
   ]
  },
  {
   "cell_type": "code",
   "execution_count": 55,
   "id": "7296b020",
   "metadata": {},
   "outputs": [
    {
     "data": {
      "text/plain": [
       "<Axes: ylabel='Density'>"
      ]
     },
     "execution_count": 55,
     "metadata": {},
     "output_type": "execute_result"
    },
    {
     "data": {
      "image/png": "[encoded data removed]",
      "text/plain": [
       "<Figure size 640x480 with 1 Axes>"
      ]
     },
     "metadata": {},
     "output_type": "display_data"
    }
   ],
   "source": [
    "CarData['Popularity'].plot(kind='kde')"
   ]
  },
  {
   "cell_type": "code",
   "execution_count": 56,
   "id": "9953046d",
   "metadata": {},
   "outputs": [
    {
     "data": {
      "text/plain": [
       "<Axes: >"
      ]
     },
     "execution_count": 56,
     "metadata": {},
     "output_type": "execute_result"
    },
    {
     "data": {
      "image/png": "[encoded data removed]",
      "text/plain": [
       "<Figure size 640x480 with 2 Axes>"
      ]
     },
     "metadata": {},
     "output_type": "display_data"
    }
   ],
   "source": [
    "corr = CarData[['EngineHP', 'Highway_MPG', 'City_mpg', 'Popularity', 'MSRP']].corr()\n",
    "sns.heatmap(corr, annot=True)"
   ]
  },
  {
   "cell_type": "code",
   "execution_count": 57,
   "id": "eb476043",
   "metadata": {},
   "outputs": [
    {
     "data": {
      "text/plain": [
       "<Axes: title={'center': 'EngineHP vs MSRP'}, xlabel='EngineHP', ylabel='MSRP'>"
      ]
     },
     "execution_count": 57,
     "metadata": {},
     "output_type": "execute_result"
    },
    {
     "data": {
      "image/png": "[encoded data removed]",
      "text/plain": [
       "<Figure size 640x480 with 1 Axes>"
      ]
     },
     "metadata": {},
     "output_type": "display_data"
    }
   ],
   "source": [
    "CarData.plot(kind = 'scatter', x ='EngineHP', y = 'MSRP', title = 'EngineHP vs MSRP')"
   ]
  },
  {
   "cell_type": "code",
   "execution_count": 58,
   "id": "992967cd",
   "metadata": {},
   "outputs": [
    {
     "data": {
      "text/plain": [
       "<Axes: ylabel='Size'>"
      ]
     },
     "execution_count": 58,
     "metadata": {},
     "output_type": "execute_result"
    },
    {
     "data": {
      "image/png": "[encoded data removed]",
      "text/plain": [
       "<Figure size 640x480 with 1 Axes>"
      ]
     },
     "metadata": {},
     "output_type": "display_data"
    }
   ],
   "source": [
    "CarData['Size'].value_counts().plot(kind='pie',autopct = '%1.1f%%')"
   ]
  },
  {
   "cell_type": "code",
   "execution_count": 59,
   "id": "b2f9b270",
   "metadata": {},
   "outputs": [
    {
     "data": {
      "text/plain": [
       "<Axes: ylabel='Make'>"
      ]
     },
     "execution_count": 59,
     "metadata": {},
     "output_type": "execute_result"
    },
    {
     "data": {
      "image/png": "[encoded data removed]",
      "text/plain": [
       "<Figure size 640x480 with 1 Axes>"
      ]
     },
     "metadata": {},
     "output_type": "display_data"
    }
   ],
   "source": [
    "#CarData['Make'].value_counts().plot(kind='pie',autopct = '%1.1f%%')\n",
    "make_data = CarData['Make'].value_counts().head(10)\n",
    "make_data.plot(kind = 'pie', autopct='%1.1f%%')"
   ]
  },
  {
   "cell_type": "code",
   "execution_count": 62,
   "id": "62f4e450",
   "metadata": {},
   "outputs": [
    {
     "data": {
      "text/plain": [
       "<Axes: ylabel='Style'>"
      ]
     },
     "execution_count": 62,
     "metadata": {},
     "output_type": "execute_result"
    },
    {
     "data": {
      "image/png": "[encoded data removed]",
      "text/plain": [
       "<Figure size 640x480 with 1 Axes>"
      ]
     },
     "metadata": {},
     "output_type": "display_data"
    }
   ],
   "source": [
    "CarData['Style'].value_counts().head(10).plot(kind='pie',autopct = '%1.1f%%')"
   ]
  },
  {
   "cell_type": "code",
   "execution_count": null,
   "id": "7e59bfab",
   "metadata": {},
   "outputs": [],
   "source": [
    "1. display data for Cheverolet cars\n",
    "2. display dara for cars manufacturing yesr 2008\n",
    "3. display data of car with engine power more than 330 hp\n",
    "4. cars with price more than 30000\n",
    "5. car price maore than 25000 and less than 28000\n",
    "6. BMW car with model '1 Sries M'\n",
    "7. Mercedez cars with price <35000\n",
    "8. cars with cylinder 4 & 6\n",
    "9. Tesla espensive car\n",
    "10. cheap car in dataset\n",
    "11. expensive car in dataset\n",
    "12. expensive model in Audi\n",
    "13. car with Engine power >350 and price<2000\n",
    "14. how many sedan cas in mercidez\n",
    "15. display dat for cheverolet cars\n",
    "16. display data for cars manufacturing year 2008"
   ]
  },
  {
   "cell_type": "code",
   "execution_count": 17,
   "id": "ad0f5490",
   "metadata": {},
   "outputs": [
    {
     "data": {
      "text/html": [
       "<div>\n",
       "<style scoped>\n",
       "    .dataframe tbody tr th:only-of-type {\n",
       "        vertical-align: middle;\n",
       "    }\n",
       "\n",
       "    .dataframe tbody tr th {\n",
       "        vertical-align: top;\n",
       "    }\n",
       "\n",
       "    .dataframe thead th {\n",
       "        text-align: right;\n",
       "    }\n",
       "</style>\n",
       "<table border=\"1\" class=\"dataframe\">\n",
       "  <thead>\n",
       "    <tr style=\"text-align: right;\">\n",
       "      <th></th>\n",
       "      <th>Make</th>\n",
       "      <th>Model</th>\n",
       "      <th>Year</th>\n",
       "      <th>Engine Fuel Type</th>\n",
       "      <th>Engine HP</th>\n",
       "      <th>Engine Cylinders</th>\n",
       "      <th>Transmission Type</th>\n",
       "      <th>Driven_Wheels</th>\n",
       "      <th>Number of Doors</th>\n",
       "      <th>Market Category</th>\n",
       "      <th>Vehicle Size</th>\n",
       "      <th>Vehicle Style</th>\n",
       "      <th>highway MPG</th>\n",
       "      <th>city mpg</th>\n",
       "      <th>Popularity</th>\n",
       "      <th>MSRP</th>\n",
       "    </tr>\n",
       "  </thead>\n",
       "  <tbody>\n",
       "    <tr>\n",
       "      <th>0</th>\n",
       "      <td>BMW</td>\n",
       "      <td>1 Series M</td>\n",
       "      <td>2011</td>\n",
       "      <td>premium unleaded (required)</td>\n",
       "      <td>335.0</td>\n",
       "      <td>6.0</td>\n",
       "      <td>MANUAL</td>\n",
       "      <td>rear wheel drive</td>\n",
       "      <td>2.0</td>\n",
       "      <td>Factory Tuner,Luxury,High-Performance</td>\n",
       "      <td>Compact</td>\n",
       "      <td>Coupe</td>\n",
       "      <td>26</td>\n",
       "      <td>19</td>\n",
       "      <td>3916</td>\n",
       "      <td>46135</td>\n",
       "    </tr>\n",
       "    <tr>\n",
       "      <th>1</th>\n",
       "      <td>BMW</td>\n",
       "      <td>1 Series</td>\n",
       "      <td>2011</td>\n",
       "      <td>premium unleaded (required)</td>\n",
       "      <td>300.0</td>\n",
       "      <td>6.0</td>\n",
       "      <td>MANUAL</td>\n",
       "      <td>rear wheel drive</td>\n",
       "      <td>2.0</td>\n",
       "      <td>Luxury,Performance</td>\n",
       "      <td>Compact</td>\n",
       "      <td>Convertible</td>\n",
       "      <td>28</td>\n",
       "      <td>19</td>\n",
       "      <td>3916</td>\n",
       "      <td>40650</td>\n",
       "    </tr>\n",
       "    <tr>\n",
       "      <th>2</th>\n",
       "      <td>BMW</td>\n",
       "      <td>1 Series</td>\n",
       "      <td>2011</td>\n",
       "      <td>premium unleaded (required)</td>\n",
       "      <td>300.0</td>\n",
       "      <td>6.0</td>\n",
       "      <td>MANUAL</td>\n",
       "      <td>rear wheel drive</td>\n",
       "      <td>2.0</td>\n",
       "      <td>Luxury,High-Performance</td>\n",
       "      <td>Compact</td>\n",
       "      <td>Coupe</td>\n",
       "      <td>28</td>\n",
       "      <td>20</td>\n",
       "      <td>3916</td>\n",
       "      <td>36350</td>\n",
       "    </tr>\n",
       "    <tr>\n",
       "      <th>3</th>\n",
       "      <td>BMW</td>\n",
       "      <td>1 Series</td>\n",
       "      <td>2011</td>\n",
       "      <td>premium unleaded (required)</td>\n",
       "      <td>230.0</td>\n",
       "      <td>6.0</td>\n",
       "      <td>MANUAL</td>\n",
       "      <td>rear wheel drive</td>\n",
       "      <td>2.0</td>\n",
       "      <td>Luxury,Performance</td>\n",
       "      <td>Compact</td>\n",
       "      <td>Coupe</td>\n",
       "      <td>28</td>\n",
       "      <td>18</td>\n",
       "      <td>3916</td>\n",
       "      <td>29450</td>\n",
       "    </tr>\n",
       "    <tr>\n",
       "      <th>4</th>\n",
       "      <td>BMW</td>\n",
       "      <td>1 Series</td>\n",
       "      <td>2011</td>\n",
       "      <td>premium unleaded (required)</td>\n",
       "      <td>230.0</td>\n",
       "      <td>6.0</td>\n",
       "      <td>MANUAL</td>\n",
       "      <td>rear wheel drive</td>\n",
       "      <td>2.0</td>\n",
       "      <td>Luxury</td>\n",
       "      <td>Compact</td>\n",
       "      <td>Convertible</td>\n",
       "      <td>28</td>\n",
       "      <td>18</td>\n",
       "      <td>3916</td>\n",
       "      <td>34500</td>\n",
       "    </tr>\n",
       "  </tbody>\n",
       "</table>\n",
       "</div>"
      ],
      "text/plain": [
       "  Make       Model  Year             Engine Fuel Type  Engine HP  \\\n",
       "0  BMW  1 Series M  2011  premium unleaded (required)      335.0   \n",
       "1  BMW    1 Series  2011  premium unleaded (required)      300.0   \n",
       "2  BMW    1 Series  2011  premium unleaded (required)      300.0   \n",
       "3  BMW    1 Series  2011  premium unleaded (required)      230.0   \n",
       "4  BMW    1 Series  2011  premium unleaded (required)      230.0   \n",
       "\n",
       "   Engine Cylinders Transmission Type     Driven_Wheels  Number of Doors  \\\n",
       "0               6.0            MANUAL  rear wheel drive              2.0   \n",
       "1               6.0            MANUAL  rear wheel drive              2.0   \n",
       "2               6.0            MANUAL  rear wheel drive              2.0   \n",
       "3               6.0            MANUAL  rear wheel drive              2.0   \n",
       "4               6.0            MANUAL  rear wheel drive              2.0   \n",
       "\n",
       "                         Market Category Vehicle Size Vehicle Style  \\\n",
       "0  Factory Tuner,Luxury,High-Performance      Compact         Coupe   \n",
       "1                     Luxury,Performance      Compact   Convertible   \n",
       "2                Luxury,High-Performance      Compact         Coupe   \n",
       "3                     Luxury,Performance      Compact         Coupe   \n",
       "4                                 Luxury      Compact   Convertible   \n",
       "\n",
       "   highway MPG  city mpg  Popularity   MSRP  \n",
       "0           26        19        3916  46135  \n",
       "1           28        19        3916  40650  \n",
       "2           28        20        3916  36350  \n",
       "3           28        18        3916  29450  \n",
       "4           28        18        3916  34500  "
      ]
     },
     "execution_count": 17,
     "metadata": {},
     "output_type": "execute_result"
    }
   ],
   "source": [
    "car_data.head()"
   ]
  },
  {
   "cell_type": "code",
   "execution_count": 11,
   "id": "d589f815",
   "metadata": {},
   "outputs": [
    {
     "name": "stdout",
     "output_type": "stream",
     "text": [
      "           Make Model  Year             Engine Fuel Type  Engine HP  \\\n",
      "274      Nissan  350Z  2008             regular unleaded      306.0   \n",
      "275      Nissan  350Z  2008             regular unleaded      306.0   \n",
      "276      Nissan  350Z  2008             regular unleaded      306.0   \n",
      "277      Nissan  350Z  2008             regular unleaded      306.0   \n",
      "278      Nissan  350Z  2008             regular unleaded      306.0   \n",
      "...         ...   ...   ...                          ...        ...   \n",
      "11734  Cadillac   XLR  2008             regular unleaded      320.0   \n",
      "11735  Cadillac   XLR  2008             regular unleaded      320.0   \n",
      "11736  Cadillac   XLR  2008             regular unleaded      320.0   \n",
      "11892       BMW  Z4 M  2008  premium unleaded (required)      330.0   \n",
      "11893       BMW  Z4 M  2008  premium unleaded (required)      330.0   \n",
      "\n",
      "       Engine Cylinders Transmission Type     Driven_Wheels  Number of Doors  \\\n",
      "274                 6.0         AUTOMATIC  rear wheel drive              2.0   \n",
      "275                 6.0            MANUAL  rear wheel drive              2.0   \n",
      "276                 6.0         AUTOMATIC  rear wheel drive              2.0   \n",
      "277                 6.0         AUTOMATIC  rear wheel drive              2.0   \n",
      "278                 6.0         AUTOMATIC  rear wheel drive              2.0   \n",
      "...                 ...               ...               ...              ...   \n",
      "11734               8.0         AUTOMATIC  rear wheel drive              2.0   \n",
      "11735               8.0         AUTOMATIC  rear wheel drive              2.0   \n",
      "11736               8.0         AUTOMATIC  rear wheel drive              2.0   \n",
      "11892               6.0            MANUAL  rear wheel drive              2.0   \n",
      "11893               6.0            MANUAL  rear wheel drive              2.0   \n",
      "\n",
      "                             Market Category Vehicle Size Vehicle Style  \\\n",
      "274                         High-Performance      Compact         Coupe   \n",
      "275                         High-Performance      Compact   Convertible   \n",
      "276                         High-Performance      Compact   Convertible   \n",
      "277                         High-Performance      Compact         Coupe   \n",
      "278                         High-Performance      Compact   Convertible   \n",
      "...                                      ...          ...           ...   \n",
      "11734                                 Luxury      Compact   Convertible   \n",
      "11735                                 Luxury      Compact   Convertible   \n",
      "11736                                 Luxury      Compact   Convertible   \n",
      "11892  Factory Tuner,Luxury,High-Performance      Compact         Coupe   \n",
      "11893  Factory Tuner,Luxury,High-Performance      Compact   Convertible   \n",
      "\n",
      "       highway MPG  city mpg  Popularity   MSRP  \n",
      "274             24        17        2009  33840  \n",
      "275             24        17        2009  38630  \n",
      "276             23        17        2009  39630  \n",
      "277             24        17        2009  37740  \n",
      "278             23        17        2009  41980  \n",
      "...            ...       ...         ...    ...  \n",
      "11734           24        15        1624  80650  \n",
      "11735           24        15        1624  81855  \n",
      "11736           24        15        1624  85650  \n",
      "11892           23        15        3916  50400  \n",
      "11893           23        15        3916  52400  \n",
      "\n",
      "[349 rows x 16 columns]\n"
     ]
    }
   ],
   "source": [
    "# 1. display data for Cheverolet cars\n",
    "\n",
    "chevrolet_cars = car_data[car_data['Make'] == 'Chevrolet']\n",
    "print(chevrolet_cars)"
   ]
  },
  {
   "cell_type": "code",
   "execution_count": 22,
   "id": "34c76416",
   "metadata": {},
   "outputs": [
    {
     "name": "stdout",
     "output_type": "stream",
     "text": [
      "           Make Model  Year             Engine Fuel Type  Engine HP  \\\n",
      "274      Nissan  350Z  2008             regular unleaded      306.0   \n",
      "275      Nissan  350Z  2008             regular unleaded      306.0   \n",
      "276      Nissan  350Z  2008             regular unleaded      306.0   \n",
      "277      Nissan  350Z  2008             regular unleaded      306.0   \n",
      "278      Nissan  350Z  2008             regular unleaded      306.0   \n",
      "...         ...   ...   ...                          ...        ...   \n",
      "11734  Cadillac   XLR  2008             regular unleaded      320.0   \n",
      "11735  Cadillac   XLR  2008             regular unleaded      320.0   \n",
      "11736  Cadillac   XLR  2008             regular unleaded      320.0   \n",
      "11892       BMW  Z4 M  2008  premium unleaded (required)      330.0   \n",
      "11893       BMW  Z4 M  2008  premium unleaded (required)      330.0   \n",
      "\n",
      "       Engine Cylinders Transmission Type     Driven_Wheels  Number of Doors  \\\n",
      "274                 6.0         AUTOMATIC  rear wheel drive              2.0   \n",
      "275                 6.0            MANUAL  rear wheel drive              2.0   \n",
      "276                 6.0         AUTOMATIC  rear wheel drive              2.0   \n",
      "277                 6.0         AUTOMATIC  rear wheel drive              2.0   \n",
      "278                 6.0         AUTOMATIC  rear wheel drive              2.0   \n",
      "...                 ...               ...               ...              ...   \n",
      "11734               8.0         AUTOMATIC  rear wheel drive              2.0   \n",
      "11735               8.0         AUTOMATIC  rear wheel drive              2.0   \n",
      "11736               8.0         AUTOMATIC  rear wheel drive              2.0   \n",
      "11892               6.0            MANUAL  rear wheel drive              2.0   \n",
      "11893               6.0            MANUAL  rear wheel drive              2.0   \n",
      "\n",
      "                             Market Category Vehicle Size Vehicle Style  \\\n",
      "274                         High-Performance      Compact         Coupe   \n",
      "275                         High-Performance      Compact   Convertible   \n",
      "276                         High-Performance      Compact   Convertible   \n",
      "277                         High-Performance      Compact         Coupe   \n",
      "278                         High-Performance      Compact   Convertible   \n",
      "...                                      ...          ...           ...   \n",
      "11734                                 Luxury      Compact   Convertible   \n",
      "11735                                 Luxury      Compact   Convertible   \n",
      "11736                                 Luxury      Compact   Convertible   \n",
      "11892  Factory Tuner,Luxury,High-Performance      Compact         Coupe   \n",
      "11893  Factory Tuner,Luxury,High-Performance      Compact   Convertible   \n",
      "\n",
      "       highway MPG  city mpg  Popularity   MSRP  \n",
      "274             24        17        2009  33840  \n",
      "275             24        17        2009  38630  \n",
      "276             23        17        2009  39630  \n",
      "277             24        17        2009  37740  \n",
      "278             23        17        2009  41980  \n",
      "...            ...       ...         ...    ...  \n",
      "11734           24        15        1624  80650  \n",
      "11735           24        15        1624  81855  \n",
      "11736           24        15        1624  85650  \n",
      "11892           23        15        3916  50400  \n",
      "11893           23        15        3916  52400  \n",
      "\n",
      "[349 rows x 16 columns]\n"
     ]
    }
   ],
   "source": [
    "#2. display dara for cars manufacturing yesr 2008\n",
    "\n",
    "cars_2008 = car_data[car_data['Year'] == 2008]\n",
    "print(cars_2008)"
   ]
  },
  {
   "cell_type": "code",
   "execution_count": 4,
   "id": "422d4ce3",
   "metadata": {},
   "outputs": [
    {
     "name": "stdout",
     "output_type": "stream",
     "text": [
      "      Make       Model  Year                Engine Fuel Type  Engine HP  \\\n",
      "0      BMW  1 Series M  2011     premium unleaded (required)      335.0   \n",
      "50     BMW    2 Series  2017  premium unleaded (recommended)      335.0   \n",
      "51     BMW    2 Series  2017  premium unleaded (recommended)      335.0   \n",
      "52     BMW    2 Series  2017  premium unleaded (recommended)      335.0   \n",
      "53     BMW    2 Series  2017  premium unleaded (recommended)      335.0   \n",
      "...    ...         ...   ...                             ...        ...   \n",
      "11899  BMW          Z4  2015     premium unleaded (required)      335.0   \n",
      "11902  BMW          Z4  2016     premium unleaded (required)      335.0   \n",
      "11903  BMW          Z8  2001     premium unleaded (required)      394.0   \n",
      "11904  BMW          Z8  2002     premium unleaded (required)      394.0   \n",
      "11905  BMW          Z8  2003     premium unleaded (required)      394.0   \n",
      "\n",
      "       Engine Cylinders Transmission Type     Driven_Wheels  Number of Doors  \\\n",
      "0                   6.0            MANUAL  rear wheel drive              2.0   \n",
      "50                  6.0         AUTOMATIC   all wheel drive              2.0   \n",
      "51                  6.0         AUTOMATIC  rear wheel drive              2.0   \n",
      "52                  6.0         AUTOMATIC   all wheel drive              2.0   \n",
      "53                  6.0         AUTOMATIC  rear wheel drive              2.0   \n",
      "...                 ...               ...               ...              ...   \n",
      "11899               6.0  AUTOMATED_MANUAL  rear wheel drive              2.0   \n",
      "11902               6.0  AUTOMATED_MANUAL  rear wheel drive              2.0   \n",
      "11903               8.0            MANUAL  rear wheel drive              2.0   \n",
      "11904               8.0            MANUAL  rear wheel drive              2.0   \n",
      "11905               8.0            MANUAL  rear wheel drive              2.0   \n",
      "\n",
      "                             Market Category Vehicle Size Vehicle Style  \\\n",
      "0      Factory Tuner,Luxury,High-Performance      Compact         Coupe   \n",
      "50     Factory Tuner,Luxury,High-Performance      Compact         Coupe   \n",
      "51     Factory Tuner,Luxury,High-Performance      Compact   Convertible   \n",
      "52     Factory Tuner,Luxury,High-Performance      Compact   Convertible   \n",
      "53     Factory Tuner,Luxury,High-Performance      Compact         Coupe   \n",
      "...                                      ...          ...           ...   \n",
      "11899                Luxury,High-Performance      Compact   Convertible   \n",
      "11902                Luxury,High-Performance      Compact   Convertible   \n",
      "11903         Exotic,Luxury,High-Performance      Compact   Convertible   \n",
      "11904         Exotic,Luxury,High-Performance      Compact   Convertible   \n",
      "11905         Exotic,Luxury,High-Performance      Compact   Convertible   \n",
      "\n",
      "       highway MPG  city mpg  Popularity    MSRP  \n",
      "0               26        19        3916   46135  \n",
      "50              31        21        3916   46450  \n",
      "51              32        21        3916   49050  \n",
      "52              32        21        3916   51050  \n",
      "53              32        21        3916   44450  \n",
      "...            ...       ...         ...     ...  \n",
      "11899           24        17        3916   65800  \n",
      "11902           24        17        3916   66350  \n",
      "11903           19        12        3916  128000  \n",
      "11904           19        12        3916  130000  \n",
      "11905           19        12        3916  131500  \n",
      "\n",
      "[2019 rows x 16 columns]\n"
     ]
    }
   ],
   "source": [
    "3. display data of car with engine power more than 330 hp\n",
    "\n",
    "powerful_cars = car_data[car_data['Engine HP'] > 330]\n",
    "print(powerful_cars)"
   ]
  },
  {
   "cell_type": "code",
   "execution_count": 7,
   "id": "2686593e",
   "metadata": {},
   "outputs": [
    {
     "name": "stdout",
     "output_type": "stream",
     "text": [
      "Make, Model, Year, Engine Fuel Type, Engine HP, Engine Cylinders, Transmission Type, Driven_Wheels, Number of Doors, Market Category, Vehicle Size, Vehicle Style, highway MPG, city mpg, Popularity, MSRP\n"
     ]
    }
   ],
   "source": [
    "print(', '.join(car_data.columns))"
   ]
  },
  {
   "cell_type": "code",
   "execution_count": 9,
   "id": "e6b41829",
   "metadata": {},
   "outputs": [
    {
     "name": "stdout",
     "output_type": "stream",
     "text": [
      "        Make       Model  Year                Engine Fuel Type  Engine HP  \\\n",
      "0        BMW  1 Series M  2011     premium unleaded (required)      335.0   \n",
      "1        BMW    1 Series  2011     premium unleaded (required)      300.0   \n",
      "2        BMW    1 Series  2011     premium unleaded (required)      300.0   \n",
      "4        BMW    1 Series  2011     premium unleaded (required)      230.0   \n",
      "5        BMW    1 Series  2012     premium unleaded (required)      230.0   \n",
      "...      ...         ...   ...                             ...        ...   \n",
      "11908  Acura         ZDX  2011     premium unleaded (required)      300.0   \n",
      "11909  Acura         ZDX  2012     premium unleaded (required)      300.0   \n",
      "11910  Acura         ZDX  2012     premium unleaded (required)      300.0   \n",
      "11911  Acura         ZDX  2012     premium unleaded (required)      300.0   \n",
      "11912  Acura         ZDX  2013  premium unleaded (recommended)      300.0   \n",
      "\n",
      "       Engine Cylinders Transmission Type     Driven_Wheels  Number of Doors  \\\n",
      "0                   6.0            MANUAL  rear wheel drive              2.0   \n",
      "1                   6.0            MANUAL  rear wheel drive              2.0   \n",
      "2                   6.0            MANUAL  rear wheel drive              2.0   \n",
      "4                   6.0            MANUAL  rear wheel drive              2.0   \n",
      "5                   6.0            MANUAL  rear wheel drive              2.0   \n",
      "...                 ...               ...               ...              ...   \n",
      "11908               6.0         AUTOMATIC   all wheel drive              4.0   \n",
      "11909               6.0         AUTOMATIC   all wheel drive              4.0   \n",
      "11910               6.0         AUTOMATIC   all wheel drive              4.0   \n",
      "11911               6.0         AUTOMATIC   all wheel drive              4.0   \n",
      "11912               6.0         AUTOMATIC   all wheel drive              4.0   \n",
      "\n",
      "                             Market Category Vehicle Size  Vehicle Style  \\\n",
      "0      Factory Tuner,Luxury,High-Performance      Compact          Coupe   \n",
      "1                         Luxury,Performance      Compact    Convertible   \n",
      "2                    Luxury,High-Performance      Compact          Coupe   \n",
      "4                                     Luxury      Compact    Convertible   \n",
      "5                         Luxury,Performance      Compact          Coupe   \n",
      "...                                      ...          ...            ...   \n",
      "11908             Crossover,Hatchback,Luxury      Midsize  4dr Hatchback   \n",
      "11909             Crossover,Hatchback,Luxury      Midsize  4dr Hatchback   \n",
      "11910             Crossover,Hatchback,Luxury      Midsize  4dr Hatchback   \n",
      "11911             Crossover,Hatchback,Luxury      Midsize  4dr Hatchback   \n",
      "11912             Crossover,Hatchback,Luxury      Midsize  4dr Hatchback   \n",
      "\n",
      "       highway MPG  city mpg  Popularity   MSRP  \n",
      "0               26        19        3916  46135  \n",
      "1               28        19        3916  40650  \n",
      "2               28        20        3916  36350  \n",
      "4               28        18        3916  34500  \n",
      "5               28        18        3916  31200  \n",
      "...            ...       ...         ...    ...  \n",
      "11908           23        16         204  50520  \n",
      "11909           23        16         204  46120  \n",
      "11910           23        16         204  56670  \n",
      "11911           23        16         204  50620  \n",
      "11912           23        16         204  50920  \n",
      "\n",
      "[5937 rows x 16 columns]\n"
     ]
    }
   ],
   "source": [
    "#4. cars with price more than 30000\n",
    "\n",
    "expensive_car = car_data[car_data['MSRP'] > 30000]\n",
    "print(expensive_car)"
   ]
  },
  {
   "cell_type": "code",
   "execution_count": 10,
   "id": "f2b71192",
   "metadata": {},
   "outputs": [
    {
     "name": "stdout",
     "output_type": "stream",
     "text": [
      "  Make       Model  Year             Engine Fuel Type  Engine HP  \\\n",
      "0  BMW  1 Series M  2011  premium unleaded (required)      335.0   \n",
      "\n",
      "   Engine Cylinders Transmission Type     Driven_Wheels  Number of Doors  \\\n",
      "0               6.0            MANUAL  rear wheel drive              2.0   \n",
      "\n",
      "                         Market Category Vehicle Size Vehicle Style  \\\n",
      "0  Factory Tuner,Luxury,High-Performance      Compact         Coupe   \n",
      "\n",
      "   highway MPG  city mpg  Popularity   MSRP  \n",
      "0           26        19        3916  46135  \n"
     ]
    }
   ],
   "source": [
    "#6. BMW car with model '1 Sries M'\n",
    "\n",
    "bmw_1_series_m = car_data[(car_data['Make'] == 'BMW') & (car_data['Model'] == '1 Series M')]\n",
    "print(bmw_1_series_m)"
   ]
  },
  {
   "cell_type": "code",
   "execution_count": 14,
   "id": "1f46b597",
   "metadata": {},
   "outputs": [
    {
     "name": "stdout",
     "output_type": "stream",
     "text": [
      "               Make      Model  Year                Engine Fuel Type  \\\n",
      "35    Mercedes-Benz  190-Class  1991                regular unleaded   \n",
      "36    Mercedes-Benz  190-Class  1991                regular unleaded   \n",
      "37    Mercedes-Benz  190-Class  1992                regular unleaded   \n",
      "38    Mercedes-Benz  190-Class  1992                regular unleaded   \n",
      "39    Mercedes-Benz  190-Class  1993                regular unleaded   \n",
      "...             ...        ...   ...                             ...   \n",
      "5304  Mercedes-Benz  GLA-Class  2017     premium unleaded (required)   \n",
      "5305  Mercedes-Benz  GLA-Class  2017     premium unleaded (required)   \n",
      "6792  Mercedes-Benz     Metris  2016  premium unleaded (recommended)   \n",
      "6793  Mercedes-Benz     Metris  2016  premium unleaded (recommended)   \n",
      "6920  Mercedes-Benz   ML55 AMG  2000                regular unleaded   \n",
      "\n",
      "      Engine HP  Engine Cylinders Transmission Type      Driven_Wheels  \\\n",
      "35        130.0               4.0            MANUAL   rear wheel drive   \n",
      "36        158.0               6.0            MANUAL   rear wheel drive   \n",
      "37        158.0               6.0            MANUAL   rear wheel drive   \n",
      "38        130.0               4.0            MANUAL   rear wheel drive   \n",
      "39        130.0               4.0            MANUAL   rear wheel drive   \n",
      "...         ...               ...               ...                ...   \n",
      "5304      208.0               4.0         AUTOMATIC  front wheel drive   \n",
      "5305      208.0               4.0         AUTOMATIC    all wheel drive   \n",
      "6792      208.0               4.0         AUTOMATIC   rear wheel drive   \n",
      "6793      208.0               4.0         AUTOMATIC   rear wheel drive   \n",
      "6920      342.0               8.0         AUTOMATIC    all wheel drive   \n",
      "\n",
      "      Number of Doors                   Market Category Vehicle Size  \\\n",
      "35                4.0                            Luxury      Compact   \n",
      "36                4.0                            Luxury      Compact   \n",
      "37                4.0                            Luxury      Compact   \n",
      "38                4.0                            Luxury      Compact   \n",
      "39                4.0                            Luxury      Compact   \n",
      "...               ...                               ...          ...   \n",
      "5304              4.0                  Crossover,Luxury      Compact   \n",
      "5305              4.0                  Crossover,Luxury      Compact   \n",
      "6792              4.0                            Luxury      Compact   \n",
      "6793              3.0                            Luxury        Large   \n",
      "6920              4.0  Factory Tuner,Luxury,Performance      Midsize   \n",
      "\n",
      "          Vehicle Style  highway MPG  city mpg  Popularity   MSRP  \n",
      "35                Sedan           26        18         617   2000  \n",
      "36                Sedan           25        17         617   2000  \n",
      "37                Sedan           25        17         617   2000  \n",
      "38                Sedan           26        18         617   2000  \n",
      "39                Sedan           26        18         617   2000  \n",
      "...                 ...          ...       ...         ...    ...  \n",
      "5304            4dr SUV           33        24         617  32850  \n",
      "5305            4dr SUV           31        23         617  34850  \n",
      "6792  Passenger Minivan           23        20         617  32500  \n",
      "6793      Cargo Minivan           24        21         617  28950  \n",
      "6920            4dr SUV           16        12         617   5650  \n",
      "\n",
      "[84 rows x 16 columns]\n"
     ]
    }
   ],
   "source": [
    "# 7. Mercedez cars with price <35000\n",
    "\n",
    "mercedes_low_price = car_data[(car_data['Make'] == 'Mercedes-Benz') & (car_data['MSRP'] < 35000)]\n",
    "print(mercedes_low_price)"
   ]
  },
  {
   "cell_type": "code",
   "execution_count": 18,
   "id": "9c9b4adf",
   "metadata": {},
   "outputs": [
    {
     "name": "stdout",
     "output_type": "stream",
     "text": [
      "          Make       Model  Year                Engine Fuel Type  Engine HP  \\\n",
      "0          BMW  1 Series M  2011     premium unleaded (required)      335.0   \n",
      "1          BMW    1 Series  2011     premium unleaded (required)      300.0   \n",
      "2          BMW    1 Series  2011     premium unleaded (required)      300.0   \n",
      "3          BMW    1 Series  2011     premium unleaded (required)      230.0   \n",
      "4          BMW    1 Series  2011     premium unleaded (required)      230.0   \n",
      "...        ...         ...   ...                             ...        ...   \n",
      "11909    Acura         ZDX  2012     premium unleaded (required)      300.0   \n",
      "11910    Acura         ZDX  2012     premium unleaded (required)      300.0   \n",
      "11911    Acura         ZDX  2012     premium unleaded (required)      300.0   \n",
      "11912    Acura         ZDX  2013  premium unleaded (recommended)      300.0   \n",
      "11913  Lincoln      Zephyr  2006                regular unleaded      221.0   \n",
      "\n",
      "       Engine Cylinders Transmission Type      Driven_Wheels  Number of Doors  \\\n",
      "0                   6.0            MANUAL   rear wheel drive              2.0   \n",
      "1                   6.0            MANUAL   rear wheel drive              2.0   \n",
      "2                   6.0            MANUAL   rear wheel drive              2.0   \n",
      "3                   6.0            MANUAL   rear wheel drive              2.0   \n",
      "4                   6.0            MANUAL   rear wheel drive              2.0   \n",
      "...                 ...               ...                ...              ...   \n",
      "11909               6.0         AUTOMATIC    all wheel drive              4.0   \n",
      "11910               6.0         AUTOMATIC    all wheel drive              4.0   \n",
      "11911               6.0         AUTOMATIC    all wheel drive              4.0   \n",
      "11912               6.0         AUTOMATIC    all wheel drive              4.0   \n",
      "11913               6.0         AUTOMATIC  front wheel drive              4.0   \n",
      "\n",
      "                             Market Category Vehicle Size  Vehicle Style  \\\n",
      "0      Factory Tuner,Luxury,High-Performance      Compact          Coupe   \n",
      "1                         Luxury,Performance      Compact    Convertible   \n",
      "2                    Luxury,High-Performance      Compact          Coupe   \n",
      "3                         Luxury,Performance      Compact          Coupe   \n",
      "4                                     Luxury      Compact    Convertible   \n",
      "...                                      ...          ...            ...   \n",
      "11909             Crossover,Hatchback,Luxury      Midsize  4dr Hatchback   \n",
      "11910             Crossover,Hatchback,Luxury      Midsize  4dr Hatchback   \n",
      "11911             Crossover,Hatchback,Luxury      Midsize  4dr Hatchback   \n",
      "11912             Crossover,Hatchback,Luxury      Midsize  4dr Hatchback   \n",
      "11913                                 Luxury      Midsize          Sedan   \n",
      "\n",
      "       highway MPG  city mpg  Popularity   MSRP  \n",
      "0               26        19        3916  46135  \n",
      "1               28        19        3916  40650  \n",
      "2               28        20        3916  36350  \n",
      "3               28        18        3916  29450  \n",
      "4               28        18        3916  34500  \n",
      "...            ...       ...         ...    ...  \n",
      "11909           23        16         204  46120  \n",
      "11910           23        16         204  56670  \n",
      "11911           23        16         204  50620  \n",
      "11912           23        16         204  50920  \n",
      "11913           26        17          61  28995  \n",
      "\n",
      "[9241 rows x 16 columns]\n"
     ]
    }
   ],
   "source": [
    "# 8. cars with cylinder 4 & 6\n",
    "cars_4_6_cylinders = car_data[car_data['Engine Cylinders'].isin([4,6])]\n",
    "print(cars_4_6_cylinders)"
   ]
  },
  {
   "cell_type": "code",
   "execution_count": 20,
   "id": "2e7d22e6",
   "metadata": {},
   "outputs": [
    {
     "name": "stdout",
     "output_type": "stream",
     "text": [
      "       Make    Model  Year Engine Fuel Type  Engine HP  Engine Cylinders  \\\n",
      "6932  Tesla  Model S  2016         electric        NaN               0.0   \n",
      "\n",
      "     Transmission Type    Driven_Wheels  Number of Doors  \\\n",
      "6932      DIRECT_DRIVE  all wheel drive              NaN   \n",
      "\n",
      "              Market Category Vehicle Size Vehicle Style  highway MPG  \\\n",
      "6932  Exotic,High-Performance        Large         Sedan          105   \n",
      "\n",
      "      city mpg  Popularity    MSRP  \n",
      "6932        92        1391  134500  \n"
     ]
    }
   ],
   "source": [
    "# 9. Tesla espensive car\n",
    "\n",
    "most_expensive_tesla = car_data[(car_data['Make'] == 'Tesla')].nlargest(1, 'MSRP')\n",
    "print(most_expensive_tesla)"
   ]
  },
  {
   "cell_type": "code",
   "execution_count": 23,
   "id": "6e131954",
   "metadata": {},
   "outputs": [
    {
     "name": "stdout",
     "output_type": "stream",
     "text": [
      "    Make Model  Year  Engine Fuel Type  Engine HP  Engine Cylinders  \\\n",
      "17  Audi   100  1992  regular unleaded      172.0               6.0   \n",
      "\n",
      "   Transmission Type      Driven_Wheels  Number of Doors Market Category  \\\n",
      "17            MANUAL  front wheel drive              4.0          Luxury   \n",
      "\n",
      "   Vehicle Size Vehicle Style  highway MPG  city mpg  Popularity  MSRP  \n",
      "17      Midsize         Sedan           24        17        3105  2000  \n"
     ]
    }
   ],
   "source": [
    "#10. cheap car in dataset\n",
    "\n",
    "cheapest_car = car_data.nsmallest(1, 'MSRP')\n",
    "print(cheapest_car)"
   ]
  },
  {
   "cell_type": "code",
   "execution_count": 24,
   "id": "79badfc3",
   "metadata": {},
   "outputs": [
    {
     "name": "stdout",
     "output_type": "stream",
     "text": [
      "          Make        Model  Year             Engine Fuel Type  Engine HP  \\\n",
      "11362  Bugatti  Veyron 16.4  2008  premium unleaded (required)     1001.0   \n",
      "\n",
      "       Engine Cylinders Transmission Type    Driven_Wheels  Number of Doors  \\\n",
      "11362              16.0  AUTOMATED_MANUAL  all wheel drive              2.0   \n",
      "\n",
      "               Market Category Vehicle Size Vehicle Style  highway MPG  \\\n",
      "11362  Exotic,High-Performance      Compact         Coupe           14   \n",
      "\n",
      "       city mpg  Popularity     MSRP  \n",
      "11362         8         820  2065902  \n"
     ]
    }
   ],
   "source": [
    "#11. expensive car in dataset\n",
    "\n",
    "most_expensive_car = car_data.nlargest(1, 'MSRP')\n",
    "print(most_expensive_car)"
   ]
  },
  {
   "cell_type": "code",
   "execution_count": 25,
   "id": "6863c1aa",
   "metadata": {},
   "outputs": [
    {
     "name": "stdout",
     "output_type": "stream",
     "text": [
      "      Make Model  Year             Engine Fuel Type  Engine HP  \\\n",
      "7982  Audi    R8  2015  premium unleaded (required)      570.0   \n",
      "\n",
      "      Engine Cylinders Transmission Type    Driven_Wheels  Number of Doors  \\\n",
      "7982              10.0  AUTOMATED_MANUAL  all wheel drive              2.0   \n",
      "\n",
      "              Market Category Vehicle Size Vehicle Style  highway MPG  \\\n",
      "7982  Luxury,High-Performance      Compact         Coupe           22   \n",
      "\n",
      "      city mpg  Popularity    MSRP  \n",
      "7982        13        3105  199900  \n"
     ]
    }
   ],
   "source": [
    "#12. expensive model in Audi\n",
    "\n",
    "audi_expensive_model = car_data[car_data['Make'] == 'Audi'].nlargest(1, 'MSRP')\n",
    "print(audi_expensive_model)"
   ]
  },
  {
   "cell_type": "code",
   "execution_count": 27,
   "id": "ec29727b",
   "metadata": {},
   "outputs": [
    {
     "name": "stdout",
     "output_type": "stream",
     "text": [
      "Empty DataFrame\n",
      "Columns: [Make, Model, Year, Engine Fuel Type, Engine HP, Engine Cylinders, Transmission Type, Driven_Wheels, Number of Doors, Market Category, Vehicle Size, Vehicle Style, highway MPG, city mpg, Popularity, MSRP]\n",
      "Index: []\n"
     ]
    }
   ],
   "source": [
    "# 13. car with Engine power >350 and price<2000\n",
    "\n",
    "cars_high_power_low_price = car_data[(car_data['Engine HP'] > 350) & (car_data['MSRP'] < 2000)]\n",
    "print(cars_high_power_low_price)\n"
   ]
  },
  {
   "cell_type": "code",
   "execution_count": 29,
   "id": "16027a98",
   "metadata": {},
   "outputs": [
    {
     "name": "stdout",
     "output_type": "stream",
     "text": [
      "Number of sedan cars in Mercedes-Benz: 144\n"
     ]
    }
   ],
   "source": [
    "#14. how many sedan cas in mercidez\n",
    "\n",
    "mercedes_sedans = car_data[(car_data['Make'] == 'Mercedes-Benz') & (car_data['Vehicle Style'] == 'Sedan')]\n",
    "num_mercedes_sedans = len(mercedes_sedans)\n",
    "\n",
    "print(f\"Number of sedan cars in Mercedes-Benz: {num_mercedes_sedans}\")\n",
    "\n"
   ]
  },
  {
   "cell_type": "code",
   "execution_count": null,
   "id": "a76d5407",
   "metadata": {},
   "outputs": [],
   "source": [
    "15. display data for cheverolet cars\n",
    "\n",
    "repeated queston"
   ]
  },
  {
   "cell_type": "code",
   "execution_count": null,
   "id": "0f90f1b9",
   "metadata": {},
   "outputs": [],
   "source": [
    "16. display data for cars manufacturing year 2008\n",
    "\n",
    "repeated question"
   ]
  },
  {
   "cell_type": "code",
   "execution_count": null,
   "id": "709aaf54",
   "metadata": {},
   "outputs": [],
   "source": []
  }
 ],
 "metadata": {
  "kernelspec": {
   "display_name": "Python 3 (ipykernel)",
   "language": "python",
   "name": "python3"
  },
  "language_info": {
   "codemirror_mode": {
    "name": "ipython",
    "version": 3
   },
   "file_extension": ".py",
   "mimetype": "text/x-python",
   "name": "python",
   "nbconvert_exporter": "python",
   "pygments_lexer": "ipython3",
   "version": "3.10.9"
  }
 },
 "nbformat": 4,
 "nbformat_minor": 5
}
